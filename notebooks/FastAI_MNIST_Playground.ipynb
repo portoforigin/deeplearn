{
 "cells": [
  {
   "cell_type": "markdown",
   "metadata": {},
   "source": [
    "# **Install Dependencies:**\n",
    "\n",
    " - Default version of fastai in Google Colab is 1.0.61(?), we need >v2.2.5"
   ]
  },
  {
   "cell_type": "code",
   "execution_count": 1,
   "metadata": {},
   "outputs": [],
   "source": [
    "!pip install -Uqq fastai"
   ]
  },
  {
   "cell_type": "code",
   "execution_count": 2,
   "metadata": {},
   "outputs": [
    {
     "name": "stdout",
     "output_type": "stream",
     "text": [
      "2.2.7\n"
     ]
    }
   ],
   "source": [
    "import fastai\n",
    "print(fastai.__version__)\n",
    "PROJECT_NAME = \"FastAI_MNIST\"\n",
    "MODEL_NAME = \"fastai_mnist_001.pkl\""
   ]
  },
  {
   "cell_type": "markdown",
   "metadata": {},
   "source": [
    "## **Load Dataset**"
   ]
  },
  {
   "cell_type": "code",
   "execution_count": 28,
   "metadata": {},
   "outputs": [],
   "source": [
    "from fastai.vision.all import *\n",
    "\n",
    "matplotlib.rc('image', cmap='Greys')\n",
    "\n",
    "path = untar_data(URLs.MNIST_SAMPLE)"
   ]
  },
  {
   "cell_type": "code",
   "execution_count": 29,
   "metadata": {},
   "outputs": [
    {
     "data": {
      "text/plain": [
       "(#3) [Path('/home/jovyan/.fastai/data/mnist_sample/train'),Path('/home/jovyan/.fastai/data/mnist_sample/valid'),Path('/home/jovyan/.fastai/data/mnist_sample/labels.csv')]"
      ]
     },
     "execution_count": 29,
     "metadata": {},
     "output_type": "execute_result"
    }
   ],
   "source": [
    "# FastAI extended Posix path w/ their own helper functions\n",
    "path.ls()\n",
    "#(path/'train').ls()"
   ]
  },
  {
   "cell_type": "code",
   "execution_count": 30,
   "metadata": {
    "scrolled": false
   },
   "outputs": [
    {
     "data": {
      "text/plain": [
       "(#6131) [Path('/home/jovyan/.fastai/data/mnist_sample/train/3/10.png'),Path('/home/jovyan/.fastai/data/mnist_sample/train/3/10000.png'),Path('/home/jovyan/.fastai/data/mnist_sample/train/3/10011.png'),Path('/home/jovyan/.fastai/data/mnist_sample/train/3/10031.png'),Path('/home/jovyan/.fastai/data/mnist_sample/train/3/10034.png'),Path('/home/jovyan/.fastai/data/mnist_sample/train/3/10042.png'),Path('/home/jovyan/.fastai/data/mnist_sample/train/3/10052.png'),Path('/home/jovyan/.fastai/data/mnist_sample/train/3/1007.png'),Path('/home/jovyan/.fastai/data/mnist_sample/train/3/10074.png'),Path('/home/jovyan/.fastai/data/mnist_sample/train/3/10091.png')...]"
      ]
     },
     "execution_count": 30,
     "metadata": {},
     "output_type": "execute_result"
    }
   ],
   "source": [
    "threes = (path/'train'/'3').ls().sorted()\n",
    "sevens = (path/'train'/'7').ls().sorted()\n",
    "threes"
   ]
  },
  {
   "cell_type": "code",
   "execution_count": 31,
   "metadata": {},
   "outputs": [
    {
     "data": {
      "text/plain": [
       "(torch.Size([6131, 28, 28]), torch.Size([6265, 28, 28]))"
      ]
     },
     "execution_count": 31,
     "metadata": {},
     "output_type": "execute_result"
    }
   ],
   "source": [
    "# Load Training Set\n",
    "train_3_tens = torch.stack([tensor(Image.open(o)) \n",
    "                            for o in (path/'train'/'3').ls()])\n",
    "train_3_tens = train_3_tens.float()/255\n",
    "train_7_tens = torch.stack([tensor(Image.open(o)) \n",
    "                            for o in (path/'train'/'7').ls()])\n",
    "train_7_tens = train_7_tens.float()/255\n",
    "train_3_tens.shape,train_7_tens.shape"
   ]
  },
  {
   "cell_type": "code",
   "execution_count": 32,
   "metadata": {},
   "outputs": [
    {
     "data": {
      "text/plain": [
       "(torch.Size([1010, 28, 28]), torch.Size([1028, 28, 28]))"
      ]
     },
     "execution_count": 32,
     "metadata": {},
     "output_type": "execute_result"
    }
   ],
   "source": [
    "# Load Validation Set\n",
    "valid_3_tens = torch.stack([tensor(Image.open(o)) \n",
    "                            for o in (path/'valid'/'3').ls()])\n",
    "valid_3_tens = valid_3_tens.float()/255\n",
    "valid_7_tens = torch.stack([tensor(Image.open(o)) \n",
    "                            for o in (path/'valid'/'7').ls()])\n",
    "valid_7_tens = valid_7_tens.float()/255\n",
    "valid_3_tens.shape,valid_7_tens.shape"
   ]
  },
  {
   "cell_type": "code",
   "execution_count": 33,
   "metadata": {
    "scrolled": true
   },
   "outputs": [
    {
     "data": {
      "text/plain": [
       "(torch.Size([12396, 784]), torch.Size([12396, 1]))"
      ]
     },
     "execution_count": 33,
     "metadata": {},
     "output_type": "execute_result"
    }
   ],
   "source": [
    "train_x = torch.cat([train_3_tens, train_7_tens]).view(-1, 28*28)\n",
    "train_y = tensor([1]*len(train_3_tens) + [0]*len(train_7_tens)).unsqueeze(1)\n",
    "train_x.shape,train_y.shape\n"
   ]
  },
  {
   "cell_type": "code",
   "execution_count": 34,
   "metadata": {},
   "outputs": [
    {
     "data": {
      "text/plain": [
       "(torch.Size([2038, 784]), torch.Size([2038, 1]))"
      ]
     },
     "execution_count": 34,
     "metadata": {},
     "output_type": "execute_result"
    }
   ],
   "source": [
    "valid_x = torch.cat([valid_3_tens, valid_7_tens]).view(-1, 28*28)\n",
    "valid_y = tensor([1]*len(valid_3_tens) + [0]*len(valid_7_tens)).unsqueeze(1)\n",
    "valid_x.shape,valid_y.shape"
   ]
  },
  {
   "cell_type": "markdown",
   "metadata": {},
   "source": [
    "`Dataset` in PyTorch is required to return a tuple of `(x,y)` when indexed. Python provides a `zip` function which, when combined with `list`, provides a simple way to get this functionality:"
   ]
  },
  {
   "cell_type": "code",
   "execution_count": 35,
   "metadata": {},
   "outputs": [
    {
     "data": {
      "text/plain": [
       "(torch.Size([784]), tensor([1]))"
      ]
     },
     "execution_count": 35,
     "metadata": {},
     "output_type": "execute_result"
    }
   ],
   "source": [
    "dset = list(zip(train_x,train_y))\n",
    "valid_dset = list(zip(valid_x,valid_y))\n",
    "x,y = dset[0]\n",
    "x.shape,y"
   ]
  },
  {
   "cell_type": "code",
   "execution_count": 36,
   "metadata": {},
   "outputs": [
    {
     "data": {
      "text/plain": [
       "12396"
      ]
     },
     "execution_count": 36,
     "metadata": {},
     "output_type": "execute_result"
    }
   ],
   "source": [
    "len(dset)"
   ]
  },
  {
   "cell_type": "markdown",
   "metadata": {},
   "source": [
    "## **Baseline**\n",
    "Just average all pixels in (3) and (7) images to make an average 3/7 image.  Then compare test image against avergaes to see if test image is a 3 or 7."
   ]
  },
  {
   "cell_type": "code",
   "execution_count": 37,
   "metadata": {},
   "outputs": [
    {
     "name": "stdout",
     "output_type": "stream",
     "text": [
      "PNG (28, 28) L\n"
     ]
    },
    {
     "data": {
      "image/png": "[encoded data removed]",
      "text/plain": [
       "<PIL.PngImagePlugin.PngImageFile image mode=L size=28x28 at 0x7F88B57CF820>"
      ]
     },
     "execution_count": 37,
     "metadata": {},
     "output_type": "execute_result"
    }
   ],
   "source": [
    "im3_path = threes[1]\n",
    "# Image => PIL library\n",
    "im3 = Image.open(im3_path)\n",
    "# Image Modes: RGB | CMYK | L (Luminance)\n",
    "print(im3.format, im3.size, im3.mode)\n",
    "\n",
    "im3"
   ]
  },
  {
   "cell_type": "code",
   "execution_count": 38,
   "metadata": {},
   "outputs": [
    {
     "data": {
      "text/html": [
       "<style  type=\"text/css\" >\n",
       "#T_421b4_row0_col0,#T_421b4_row0_col1,#T_421b4_row0_col2,#T_421b4_row0_col3,#T_421b4_row0_col4,#T_421b4_row0_col5,#T_421b4_row0_col6,#T_421b4_row0_col7,#T_421b4_row0_col8,#T_421b4_row0_col9,#T_421b4_row0_col10,#T_421b4_row0_col11,#T_421b4_row0_col12,#T_421b4_row0_col13,#T_421b4_row0_col14,#T_421b4_row0_col15,#T_421b4_row0_col16,#T_421b4_row0_col17,#T_421b4_row1_col0,#T_421b4_row1_col1,#T_421b4_row1_col2,#T_421b4_row1_col3,#T_421b4_row1_col4,#T_421b4_row1_col15,#T_421b4_row1_col16,#T_421b4_row1_col17,#T_421b4_row2_col0,#T_421b4_row2_col1,#T_421b4_row2_col2,#T_421b4_row2_col15,#T_421b4_row2_col16,#T_421b4_row2_col17,#T_421b4_row3_col0,#T_421b4_row3_col15,#T_421b4_row3_col16,#T_421b4_row3_col17,#T_421b4_row4_col0,#T_421b4_row4_col6,#T_421b4_row4_col7,#T_421b4_row4_col8,#T_421b4_row4_col9,#T_421b4_row4_col10,#T_421b4_row4_col15,#T_421b4_row4_col16,#T_421b4_row4_col17,#T_421b4_row5_col0,#T_421b4_row5_col5,#T_421b4_row5_col6,#T_421b4_row5_col7,#T_421b4_row5_col8,#T_421b4_row5_col9,#T_421b4_row5_col15,#T_421b4_row5_col16,#T_421b4_row5_col17,#T_421b4_row6_col0,#T_421b4_row6_col1,#T_421b4_row6_col2,#T_421b4_row6_col3,#T_421b4_row6_col4,#T_421b4_row6_col5,#T_421b4_row6_col6,#T_421b4_row6_col7,#T_421b4_row6_col8,#T_421b4_row6_col9,#T_421b4_row6_col14,#T_421b4_row6_col15,#T_421b4_row6_col16,#T_421b4_row6_col17,#T_421b4_row7_col0,#T_421b4_row7_col1,#T_421b4_row7_col2,#T_421b4_row7_col3,#T_421b4_row7_col4,#T_421b4_row7_col5,#T_421b4_row7_col6,#T_421b4_row7_col13,#T_421b4_row7_col14,#T_421b4_row7_col15,#T_421b4_row7_col16,#T_421b4_row7_col17,#T_421b4_row8_col0,#T_421b4_row8_col1,#T_421b4_row8_col2,#T_421b4_row8_col3,#T_421b4_row8_col4,#T_421b4_row8_col13,#T_421b4_row8_col14,#T_421b4_row8_col15,#T_421b4_row8_col16,#T_421b4_row8_col17,#T_421b4_row9_col0,#T_421b4_row9_col1,#T_421b4_row9_col2,#T_421b4_row9_col3,#T_421b4_row9_col4,#T_421b4_row9_col16,#T_421b4_row9_col17,#T_421b4_row10_col0,#T_421b4_row10_col1,#T_421b4_row10_col2,#T_421b4_row10_col3,#T_421b4_row10_col4,#T_421b4_row10_col5,#T_421b4_row10_col6,#T_421b4_row10_col17{\n",
       "            font-size:  6pt;\n",
       "            background-color:  #ffffff;\n",
       "            color:  #000000;\n",
       "        }#T_421b4_row1_col5{\n",
       "            font-size:  6pt;\n",
       "            background-color:  #efefef;\n",
       "            color:  #000000;\n",
       "        }#T_421b4_row1_col6,#T_421b4_row1_col13{\n",
       "            font-size:  6pt;\n",
       "            background-color:  #7c7c7c;\n",
       "            color:  #000000;\n",
       "        }#T_421b4_row1_col7{\n",
       "            font-size:  6pt;\n",
       "            background-color:  #4a4a4a;\n",
       "            color:  #f1f1f1;\n",
       "        }#T_421b4_row1_col8,#T_421b4_row1_col9,#T_421b4_row1_col10,#T_421b4_row2_col5,#T_421b4_row2_col6,#T_421b4_row2_col7,#T_421b4_row2_col11,#T_421b4_row2_col12,#T_421b4_row2_col13,#T_421b4_row3_col4,#T_421b4_row3_col12,#T_421b4_row3_col13,#T_421b4_row4_col1,#T_421b4_row4_col2,#T_421b4_row4_col3,#T_421b4_row4_col12,#T_421b4_row4_col13,#T_421b4_row5_col12,#T_421b4_row6_col11,#T_421b4_row9_col11,#T_421b4_row10_col11,#T_421b4_row10_col12,#T_421b4_row10_col13,#T_421b4_row10_col14,#T_421b4_row10_col15,#T_421b4_row10_col16{\n",
       "            font-size:  6pt;\n",
       "            background-color:  #000000;\n",
       "            color:  #f1f1f1;\n",
       "        }#T_421b4_row1_col11{\n",
       "            font-size:  6pt;\n",
       "            background-color:  #606060;\n",
       "            color:  #f1f1f1;\n",
       "        }#T_421b4_row1_col12{\n",
       "            font-size:  6pt;\n",
       "            background-color:  #4d4d4d;\n",
       "            color:  #f1f1f1;\n",
       "        }#T_421b4_row1_col14{\n",
       "            font-size:  6pt;\n",
       "            background-color:  #bbbbbb;\n",
       "            color:  #000000;\n",
       "        }#T_421b4_row2_col3{\n",
       "            font-size:  6pt;\n",
       "            background-color:  #e4e4e4;\n",
       "            color:  #000000;\n",
       "        }#T_421b4_row2_col4,#T_421b4_row8_col6{\n",
       "            font-size:  6pt;\n",
       "            background-color:  #6b6b6b;\n",
       "            color:  #000000;\n",
       "        }#T_421b4_row2_col8,#T_421b4_row2_col14,#T_421b4_row3_col14{\n",
       "            font-size:  6pt;\n",
       "            background-color:  #171717;\n",
       "            color:  #f1f1f1;\n",
       "        }#T_421b4_row2_col9,#T_421b4_row3_col11{\n",
       "            font-size:  6pt;\n",
       "            background-color:  #4b4b4b;\n",
       "            color:  #f1f1f1;\n",
       "        }#T_421b4_row2_col10,#T_421b4_row7_col10,#T_421b4_row8_col8,#T_421b4_row8_col10,#T_421b4_row9_col8,#T_421b4_row9_col10{\n",
       "            font-size:  6pt;\n",
       "            background-color:  #010101;\n",
       "            color:  #f1f1f1;\n",
       "        }#T_421b4_row3_col1{\n",
       "            font-size:  6pt;\n",
       "            background-color:  #272727;\n",
       "            color:  #f1f1f1;\n",
       "        }#T_421b4_row3_col2{\n",
       "            font-size:  6pt;\n",
       "            background-color:  #0a0a0a;\n",
       "            color:  #f1f1f1;\n",
       "        }#T_421b4_row3_col3{\n",
       "            font-size:  6pt;\n",
       "            background-color:  #050505;\n",
       "            color:  #f1f1f1;\n",
       "        }#T_421b4_row3_col5{\n",
       "            font-size:  6pt;\n",
       "            background-color:  #333333;\n",
       "            color:  #f1f1f1;\n",
       "        }#T_421b4_row3_col6{\n",
       "            font-size:  6pt;\n",
       "            background-color:  #e6e6e6;\n",
       "            color:  #000000;\n",
       "        }#T_421b4_row3_col7,#T_421b4_row3_col10{\n",
       "            font-size:  6pt;\n",
       "            background-color:  #fafafa;\n",
       "            color:  #000000;\n",
       "        }#T_421b4_row3_col8{\n",
       "            font-size:  6pt;\n",
       "            background-color:  #fbfbfb;\n",
       "            color:  #000000;\n",
       "        }#T_421b4_row3_col9{\n",
       "            font-size:  6pt;\n",
       "            background-color:  #fdfdfd;\n",
       "            color:  #000000;\n",
       "        }#T_421b4_row4_col4{\n",
       "            font-size:  6pt;\n",
       "            background-color:  #1b1b1b;\n",
       "            color:  #f1f1f1;\n",
       "        }#T_421b4_row4_col5{\n",
       "            font-size:  6pt;\n",
       "            background-color:  #e0e0e0;\n",
       "            color:  #000000;\n",
       "        }#T_421b4_row4_col11{\n",
       "            font-size:  6pt;\n",
       "            background-color:  #4e4e4e;\n",
       "            color:  #f1f1f1;\n",
       "        }#T_421b4_row4_col14{\n",
       "            font-size:  6pt;\n",
       "            background-color:  #767676;\n",
       "            color:  #000000;\n",
       "        }#T_421b4_row5_col1{\n",
       "            font-size:  6pt;\n",
       "            background-color:  #fcfcfc;\n",
       "            color:  #000000;\n",
       "        }#T_421b4_row5_col2,#T_421b4_row5_col3{\n",
       "            font-size:  6pt;\n",
       "            background-color:  #f6f6f6;\n",
       "            color:  #000000;\n",
       "        }#T_421b4_row5_col4,#T_421b4_row7_col7{\n",
       "            font-size:  6pt;\n",
       "            background-color:  #f8f8f8;\n",
       "            color:  #000000;\n",
       "        }#T_421b4_row5_col10,#T_421b4_row10_col7{\n",
       "            font-size:  6pt;\n",
       "            background-color:  #e8e8e8;\n",
       "            color:  #000000;\n",
       "        }#T_421b4_row5_col11{\n",
       "            font-size:  6pt;\n",
       "            background-color:  #222222;\n",
       "            color:  #f1f1f1;\n",
       "        }#T_421b4_row5_col13,#T_421b4_row6_col12{\n",
       "            font-size:  6pt;\n",
       "            background-color:  #090909;\n",
       "            color:  #f1f1f1;\n",
       "        }#T_421b4_row5_col14{\n",
       "            font-size:  6pt;\n",
       "            background-color:  #d0d0d0;\n",
       "            color:  #000000;\n",
       "        }#T_421b4_row6_col10,#T_421b4_row7_col11,#T_421b4_row9_col6{\n",
       "            font-size:  6pt;\n",
       "            background-color:  #060606;\n",
       "            color:  #f1f1f1;\n",
       "        }#T_421b4_row6_col13{\n",
       "            font-size:  6pt;\n",
       "            background-color:  #979797;\n",
       "            color:  #000000;\n",
       "        }#T_421b4_row7_col8{\n",
       "            font-size:  6pt;\n",
       "            background-color:  #b6b6b6;\n",
       "            color:  #000000;\n",
       "        }#T_421b4_row7_col9{\n",
       "            font-size:  6pt;\n",
       "            background-color:  #252525;\n",
       "            color:  #f1f1f1;\n",
       "        }#T_421b4_row7_col12{\n",
       "            font-size:  6pt;\n",
       "            background-color:  #999999;\n",
       "            color:  #000000;\n",
       "        }#T_421b4_row8_col5{\n",
       "            font-size:  6pt;\n",
       "            background-color:  #f9f9f9;\n",
       "            color:  #000000;\n",
       "        }#T_421b4_row8_col7{\n",
       "            font-size:  6pt;\n",
       "            background-color:  #101010;\n",
       "            color:  #f1f1f1;\n",
       "        }#T_421b4_row8_col9,#T_421b4_row9_col9{\n",
       "            font-size:  6pt;\n",
       "            background-color:  #020202;\n",
       "            color:  #f1f1f1;\n",
       "        }#T_421b4_row8_col11{\n",
       "            font-size:  6pt;\n",
       "            background-color:  #545454;\n",
       "            color:  #f1f1f1;\n",
       "        }#T_421b4_row8_col12{\n",
       "            font-size:  6pt;\n",
       "            background-color:  #f1f1f1;\n",
       "            color:  #000000;\n",
       "        }#T_421b4_row9_col5{\n",
       "            font-size:  6pt;\n",
       "            background-color:  #f7f7f7;\n",
       "            color:  #000000;\n",
       "        }#T_421b4_row9_col7{\n",
       "            font-size:  6pt;\n",
       "            background-color:  #030303;\n",
       "            color:  #f1f1f1;\n",
       "        }#T_421b4_row9_col12{\n",
       "            font-size:  6pt;\n",
       "            background-color:  #181818;\n",
       "            color:  #f1f1f1;\n",
       "        }#T_421b4_row9_col13{\n",
       "            font-size:  6pt;\n",
       "            background-color:  #303030;\n",
       "            color:  #f1f1f1;\n",
       "        }#T_421b4_row9_col14{\n",
       "            font-size:  6pt;\n",
       "            background-color:  #a9a9a9;\n",
       "            color:  #000000;\n",
       "        }#T_421b4_row9_col15{\n",
       "            font-size:  6pt;\n",
       "            background-color:  #fefefe;\n",
       "            color:  #000000;\n",
       "        }#T_421b4_row10_col8,#T_421b4_row10_col9{\n",
       "            font-size:  6pt;\n",
       "            background-color:  #bababa;\n",
       "            color:  #000000;\n",
       "        }#T_421b4_row10_col10{\n",
       "            font-size:  6pt;\n",
       "            background-color:  #393939;\n",
       "            color:  #f1f1f1;\n",
       "        }</style><table id=\"T_421b4_\" ><thead>    <tr>        <th class=\"blank level0\" ></th>        <th class=\"col_heading level0 col0\" >0</th>        <th class=\"col_heading level0 col1\" >1</th>        <th class=\"col_heading level0 col2\" >2</th>        <th class=\"col_heading level0 col3\" >3</th>        <th class=\"col_heading level0 col4\" >4</th>        <th class=\"col_heading level0 col5\" >5</th>        <th class=\"col_heading level0 col6\" >6</th>        <th class=\"col_heading level0 col7\" >7</th>        <th class=\"col_heading level0 col8\" >8</th>        <th class=\"col_heading level0 col9\" >9</th>        <th class=\"col_heading level0 col10\" >10</th>        <th class=\"col_heading level0 col11\" >11</th>        <th class=\"col_heading level0 col12\" >12</th>        <th class=\"col_heading level0 col13\" >13</th>        <th class=\"col_heading level0 col14\" >14</th>        <th class=\"col_heading level0 col15\" >15</th>        <th class=\"col_heading level0 col16\" >16</th>        <th class=\"col_heading level0 col17\" >17</th>    </tr></thead><tbody>\n",
       "                <tr>\n",
       "                        <th id=\"T_421b4_level0_row0\" class=\"row_heading level0 row0\" >0</th>\n",
       "                        <td id=\"T_421b4_row0_col0\" class=\"data row0 col0\" >0</td>\n",
       "                        <td id=\"T_421b4_row0_col1\" class=\"data row0 col1\" >0</td>\n",
       "                        <td id=\"T_421b4_row0_col2\" class=\"data row0 col2\" >0</td>\n",
       "                        <td id=\"T_421b4_row0_col3\" class=\"data row0 col3\" >0</td>\n",
       "                        <td id=\"T_421b4_row0_col4\" class=\"data row0 col4\" >0</td>\n",
       "                        <td id=\"T_421b4_row0_col5\" class=\"data row0 col5\" >0</td>\n",
       "                        <td id=\"T_421b4_row0_col6\" class=\"data row0 col6\" >0</td>\n",
       "                        <td id=\"T_421b4_row0_col7\" class=\"data row0 col7\" >0</td>\n",
       "                        <td id=\"T_421b4_row0_col8\" class=\"data row0 col8\" >0</td>\n",
       "                        <td id=\"T_421b4_row0_col9\" class=\"data row0 col9\" >0</td>\n",
       "                        <td id=\"T_421b4_row0_col10\" class=\"data row0 col10\" >0</td>\n",
       "                        <td id=\"T_421b4_row0_col11\" class=\"data row0 col11\" >0</td>\n",
       "                        <td id=\"T_421b4_row0_col12\" class=\"data row0 col12\" >0</td>\n",
       "                        <td id=\"T_421b4_row0_col13\" class=\"data row0 col13\" >0</td>\n",
       "                        <td id=\"T_421b4_row0_col14\" class=\"data row0 col14\" >0</td>\n",
       "                        <td id=\"T_421b4_row0_col15\" class=\"data row0 col15\" >0</td>\n",
       "                        <td id=\"T_421b4_row0_col16\" class=\"data row0 col16\" >0</td>\n",
       "                        <td id=\"T_421b4_row0_col17\" class=\"data row0 col17\" >0</td>\n",
       "            </tr>\n",
       "            <tr>\n",
       "                        <th id=\"T_421b4_level0_row1\" class=\"row_heading level0 row1\" >1</th>\n",
       "                        <td id=\"T_421b4_row1_col0\" class=\"data row1 col0\" >0</td>\n",
       "                        <td id=\"T_421b4_row1_col1\" class=\"data row1 col1\" >0</td>\n",
       "                        <td id=\"T_421b4_row1_col2\" class=\"data row1 col2\" >0</td>\n",
       "                        <td id=\"T_421b4_row1_col3\" class=\"data row1 col3\" >0</td>\n",
       "                        <td id=\"T_421b4_row1_col4\" class=\"data row1 col4\" >0</td>\n",
       "                        <td id=\"T_421b4_row1_col5\" class=\"data row1 col5\" >29</td>\n",
       "                        <td id=\"T_421b4_row1_col6\" class=\"data row1 col6\" >150</td>\n",
       "                        <td id=\"T_421b4_row1_col7\" class=\"data row1 col7\" >195</td>\n",
       "                        <td id=\"T_421b4_row1_col8\" class=\"data row1 col8\" >254</td>\n",
       "                        <td id=\"T_421b4_row1_col9\" class=\"data row1 col9\" >255</td>\n",
       "                        <td id=\"T_421b4_row1_col10\" class=\"data row1 col10\" >254</td>\n",
       "                        <td id=\"T_421b4_row1_col11\" class=\"data row1 col11\" >176</td>\n",
       "                        <td id=\"T_421b4_row1_col12\" class=\"data row1 col12\" >193</td>\n",
       "                        <td id=\"T_421b4_row1_col13\" class=\"data row1 col13\" >150</td>\n",
       "                        <td id=\"T_421b4_row1_col14\" class=\"data row1 col14\" >96</td>\n",
       "                        <td id=\"T_421b4_row1_col15\" class=\"data row1 col15\" >0</td>\n",
       "                        <td id=\"T_421b4_row1_col16\" class=\"data row1 col16\" >0</td>\n",
       "                        <td id=\"T_421b4_row1_col17\" class=\"data row1 col17\" >0</td>\n",
       "            </tr>\n",
       "            <tr>\n",
       "                        <th id=\"T_421b4_level0_row2\" class=\"row_heading level0 row2\" >2</th>\n",
       "                        <td id=\"T_421b4_row2_col0\" class=\"data row2 col0\" >0</td>\n",
       "                        <td id=\"T_421b4_row2_col1\" class=\"data row2 col1\" >0</td>\n",
       "                        <td id=\"T_421b4_row2_col2\" class=\"data row2 col2\" >0</td>\n",
       "                        <td id=\"T_421b4_row2_col3\" class=\"data row2 col3\" >48</td>\n",
       "                        <td id=\"T_421b4_row2_col4\" class=\"data row2 col4\" >166</td>\n",
       "                        <td id=\"T_421b4_row2_col5\" class=\"data row2 col5\" >224</td>\n",
       "                        <td id=\"T_421b4_row2_col6\" class=\"data row2 col6\" >253</td>\n",
       "                        <td id=\"T_421b4_row2_col7\" class=\"data row2 col7\" >253</td>\n",
       "                        <td id=\"T_421b4_row2_col8\" class=\"data row2 col8\" >234</td>\n",
       "                        <td id=\"T_421b4_row2_col9\" class=\"data row2 col9\" >196</td>\n",
       "                        <td id=\"T_421b4_row2_col10\" class=\"data row2 col10\" >253</td>\n",
       "                        <td id=\"T_421b4_row2_col11\" class=\"data row2 col11\" >253</td>\n",
       "                        <td id=\"T_421b4_row2_col12\" class=\"data row2 col12\" >253</td>\n",
       "                        <td id=\"T_421b4_row2_col13\" class=\"data row2 col13\" >253</td>\n",
       "                        <td id=\"T_421b4_row2_col14\" class=\"data row2 col14\" >233</td>\n",
       "                        <td id=\"T_421b4_row2_col15\" class=\"data row2 col15\" >0</td>\n",
       "                        <td id=\"T_421b4_row2_col16\" class=\"data row2 col16\" >0</td>\n",
       "                        <td id=\"T_421b4_row2_col17\" class=\"data row2 col17\" >0</td>\n",
       "            </tr>\n",
       "            <tr>\n",
       "                        <th id=\"T_421b4_level0_row3\" class=\"row_heading level0 row3\" >3</th>\n",
       "                        <td id=\"T_421b4_row3_col0\" class=\"data row3 col0\" >0</td>\n",
       "                        <td id=\"T_421b4_row3_col1\" class=\"data row3 col1\" >93</td>\n",
       "                        <td id=\"T_421b4_row3_col2\" class=\"data row3 col2\" >244</td>\n",
       "                        <td id=\"T_421b4_row3_col3\" class=\"data row3 col3\" >249</td>\n",
       "                        <td id=\"T_421b4_row3_col4\" class=\"data row3 col4\" >253</td>\n",
       "                        <td id=\"T_421b4_row3_col5\" class=\"data row3 col5\" >187</td>\n",
       "                        <td id=\"T_421b4_row3_col6\" class=\"data row3 col6\" >46</td>\n",
       "                        <td id=\"T_421b4_row3_col7\" class=\"data row3 col7\" >10</td>\n",
       "                        <td id=\"T_421b4_row3_col8\" class=\"data row3 col8\" >8</td>\n",
       "                        <td id=\"T_421b4_row3_col9\" class=\"data row3 col9\" >4</td>\n",
       "                        <td id=\"T_421b4_row3_col10\" class=\"data row3 col10\" >10</td>\n",
       "                        <td id=\"T_421b4_row3_col11\" class=\"data row3 col11\" >194</td>\n",
       "                        <td id=\"T_421b4_row3_col12\" class=\"data row3 col12\" >253</td>\n",
       "                        <td id=\"T_421b4_row3_col13\" class=\"data row3 col13\" >253</td>\n",
       "                        <td id=\"T_421b4_row3_col14\" class=\"data row3 col14\" >233</td>\n",
       "                        <td id=\"T_421b4_row3_col15\" class=\"data row3 col15\" >0</td>\n",
       "                        <td id=\"T_421b4_row3_col16\" class=\"data row3 col16\" >0</td>\n",
       "                        <td id=\"T_421b4_row3_col17\" class=\"data row3 col17\" >0</td>\n",
       "            </tr>\n",
       "            <tr>\n",
       "                        <th id=\"T_421b4_level0_row4\" class=\"row_heading level0 row4\" >4</th>\n",
       "                        <td id=\"T_421b4_row4_col0\" class=\"data row4 col0\" >0</td>\n",
       "                        <td id=\"T_421b4_row4_col1\" class=\"data row4 col1\" >107</td>\n",
       "                        <td id=\"T_421b4_row4_col2\" class=\"data row4 col2\" >253</td>\n",
       "                        <td id=\"T_421b4_row4_col3\" class=\"data row4 col3\" >253</td>\n",
       "                        <td id=\"T_421b4_row4_col4\" class=\"data row4 col4\" >230</td>\n",
       "                        <td id=\"T_421b4_row4_col5\" class=\"data row4 col5\" >48</td>\n",
       "                        <td id=\"T_421b4_row4_col6\" class=\"data row4 col6\" >0</td>\n",
       "                        <td id=\"T_421b4_row4_col7\" class=\"data row4 col7\" >0</td>\n",
       "                        <td id=\"T_421b4_row4_col8\" class=\"data row4 col8\" >0</td>\n",
       "                        <td id=\"T_421b4_row4_col9\" class=\"data row4 col9\" >0</td>\n",
       "                        <td id=\"T_421b4_row4_col10\" class=\"data row4 col10\" >0</td>\n",
       "                        <td id=\"T_421b4_row4_col11\" class=\"data row4 col11\" >192</td>\n",
       "                        <td id=\"T_421b4_row4_col12\" class=\"data row4 col12\" >253</td>\n",
       "                        <td id=\"T_421b4_row4_col13\" class=\"data row4 col13\" >253</td>\n",
       "                        <td id=\"T_421b4_row4_col14\" class=\"data row4 col14\" >156</td>\n",
       "                        <td id=\"T_421b4_row4_col15\" class=\"data row4 col15\" >0</td>\n",
       "                        <td id=\"T_421b4_row4_col16\" class=\"data row4 col16\" >0</td>\n",
       "                        <td id=\"T_421b4_row4_col17\" class=\"data row4 col17\" >0</td>\n",
       "            </tr>\n",
       "            <tr>\n",
       "                        <th id=\"T_421b4_level0_row5\" class=\"row_heading level0 row5\" >5</th>\n",
       "                        <td id=\"T_421b4_row5_col0\" class=\"data row5 col0\" >0</td>\n",
       "                        <td id=\"T_421b4_row5_col1\" class=\"data row5 col1\" >3</td>\n",
       "                        <td id=\"T_421b4_row5_col2\" class=\"data row5 col2\" >20</td>\n",
       "                        <td id=\"T_421b4_row5_col3\" class=\"data row5 col3\" >20</td>\n",
       "                        <td id=\"T_421b4_row5_col4\" class=\"data row5 col4\" >15</td>\n",
       "                        <td id=\"T_421b4_row5_col5\" class=\"data row5 col5\" >0</td>\n",
       "                        <td id=\"T_421b4_row5_col6\" class=\"data row5 col6\" >0</td>\n",
       "                        <td id=\"T_421b4_row5_col7\" class=\"data row5 col7\" >0</td>\n",
       "                        <td id=\"T_421b4_row5_col8\" class=\"data row5 col8\" >0</td>\n",
       "                        <td id=\"T_421b4_row5_col9\" class=\"data row5 col9\" >0</td>\n",
       "                        <td id=\"T_421b4_row5_col10\" class=\"data row5 col10\" >43</td>\n",
       "                        <td id=\"T_421b4_row5_col11\" class=\"data row5 col11\" >224</td>\n",
       "                        <td id=\"T_421b4_row5_col12\" class=\"data row5 col12\" >253</td>\n",
       "                        <td id=\"T_421b4_row5_col13\" class=\"data row5 col13\" >245</td>\n",
       "                        <td id=\"T_421b4_row5_col14\" class=\"data row5 col14\" >74</td>\n",
       "                        <td id=\"T_421b4_row5_col15\" class=\"data row5 col15\" >0</td>\n",
       "                        <td id=\"T_421b4_row5_col16\" class=\"data row5 col16\" >0</td>\n",
       "                        <td id=\"T_421b4_row5_col17\" class=\"data row5 col17\" >0</td>\n",
       "            </tr>\n",
       "            <tr>\n",
       "                        <th id=\"T_421b4_level0_row6\" class=\"row_heading level0 row6\" >6</th>\n",
       "                        <td id=\"T_421b4_row6_col0\" class=\"data row6 col0\" >0</td>\n",
       "                        <td id=\"T_421b4_row6_col1\" class=\"data row6 col1\" >0</td>\n",
       "                        <td id=\"T_421b4_row6_col2\" class=\"data row6 col2\" >0</td>\n",
       "                        <td id=\"T_421b4_row6_col3\" class=\"data row6 col3\" >0</td>\n",
       "                        <td id=\"T_421b4_row6_col4\" class=\"data row6 col4\" >0</td>\n",
       "                        <td id=\"T_421b4_row6_col5\" class=\"data row6 col5\" >0</td>\n",
       "                        <td id=\"T_421b4_row6_col6\" class=\"data row6 col6\" >0</td>\n",
       "                        <td id=\"T_421b4_row6_col7\" class=\"data row6 col7\" >0</td>\n",
       "                        <td id=\"T_421b4_row6_col8\" class=\"data row6 col8\" >0</td>\n",
       "                        <td id=\"T_421b4_row6_col9\" class=\"data row6 col9\" >0</td>\n",
       "                        <td id=\"T_421b4_row6_col10\" class=\"data row6 col10\" >249</td>\n",
       "                        <td id=\"T_421b4_row6_col11\" class=\"data row6 col11\" >253</td>\n",
       "                        <td id=\"T_421b4_row6_col12\" class=\"data row6 col12\" >245</td>\n",
       "                        <td id=\"T_421b4_row6_col13\" class=\"data row6 col13\" >126</td>\n",
       "                        <td id=\"T_421b4_row6_col14\" class=\"data row6 col14\" >0</td>\n",
       "                        <td id=\"T_421b4_row6_col15\" class=\"data row6 col15\" >0</td>\n",
       "                        <td id=\"T_421b4_row6_col16\" class=\"data row6 col16\" >0</td>\n",
       "                        <td id=\"T_421b4_row6_col17\" class=\"data row6 col17\" >0</td>\n",
       "            </tr>\n",
       "            <tr>\n",
       "                        <th id=\"T_421b4_level0_row7\" class=\"row_heading level0 row7\" >7</th>\n",
       "                        <td id=\"T_421b4_row7_col0\" class=\"data row7 col0\" >0</td>\n",
       "                        <td id=\"T_421b4_row7_col1\" class=\"data row7 col1\" >0</td>\n",
       "                        <td id=\"T_421b4_row7_col2\" class=\"data row7 col2\" >0</td>\n",
       "                        <td id=\"T_421b4_row7_col3\" class=\"data row7 col3\" >0</td>\n",
       "                        <td id=\"T_421b4_row7_col4\" class=\"data row7 col4\" >0</td>\n",
       "                        <td id=\"T_421b4_row7_col5\" class=\"data row7 col5\" >0</td>\n",
       "                        <td id=\"T_421b4_row7_col6\" class=\"data row7 col6\" >0</td>\n",
       "                        <td id=\"T_421b4_row7_col7\" class=\"data row7 col7\" >14</td>\n",
       "                        <td id=\"T_421b4_row7_col8\" class=\"data row7 col8\" >101</td>\n",
       "                        <td id=\"T_421b4_row7_col9\" class=\"data row7 col9\" >223</td>\n",
       "                        <td id=\"T_421b4_row7_col10\" class=\"data row7 col10\" >253</td>\n",
       "                        <td id=\"T_421b4_row7_col11\" class=\"data row7 col11\" >248</td>\n",
       "                        <td id=\"T_421b4_row7_col12\" class=\"data row7 col12\" >124</td>\n",
       "                        <td id=\"T_421b4_row7_col13\" class=\"data row7 col13\" >0</td>\n",
       "                        <td id=\"T_421b4_row7_col14\" class=\"data row7 col14\" >0</td>\n",
       "                        <td id=\"T_421b4_row7_col15\" class=\"data row7 col15\" >0</td>\n",
       "                        <td id=\"T_421b4_row7_col16\" class=\"data row7 col16\" >0</td>\n",
       "                        <td id=\"T_421b4_row7_col17\" class=\"data row7 col17\" >0</td>\n",
       "            </tr>\n",
       "            <tr>\n",
       "                        <th id=\"T_421b4_level0_row8\" class=\"row_heading level0 row8\" >8</th>\n",
       "                        <td id=\"T_421b4_row8_col0\" class=\"data row8 col0\" >0</td>\n",
       "                        <td id=\"T_421b4_row8_col1\" class=\"data row8 col1\" >0</td>\n",
       "                        <td id=\"T_421b4_row8_col2\" class=\"data row8 col2\" >0</td>\n",
       "                        <td id=\"T_421b4_row8_col3\" class=\"data row8 col3\" >0</td>\n",
       "                        <td id=\"T_421b4_row8_col4\" class=\"data row8 col4\" >0</td>\n",
       "                        <td id=\"T_421b4_row8_col5\" class=\"data row8 col5\" >11</td>\n",
       "                        <td id=\"T_421b4_row8_col6\" class=\"data row8 col6\" >166</td>\n",
       "                        <td id=\"T_421b4_row8_col7\" class=\"data row8 col7\" >239</td>\n",
       "                        <td id=\"T_421b4_row8_col8\" class=\"data row8 col8\" >253</td>\n",
       "                        <td id=\"T_421b4_row8_col9\" class=\"data row8 col9\" >253</td>\n",
       "                        <td id=\"T_421b4_row8_col10\" class=\"data row8 col10\" >253</td>\n",
       "                        <td id=\"T_421b4_row8_col11\" class=\"data row8 col11\" >187</td>\n",
       "                        <td id=\"T_421b4_row8_col12\" class=\"data row8 col12\" >30</td>\n",
       "                        <td id=\"T_421b4_row8_col13\" class=\"data row8 col13\" >0</td>\n",
       "                        <td id=\"T_421b4_row8_col14\" class=\"data row8 col14\" >0</td>\n",
       "                        <td id=\"T_421b4_row8_col15\" class=\"data row8 col15\" >0</td>\n",
       "                        <td id=\"T_421b4_row8_col16\" class=\"data row8 col16\" >0</td>\n",
       "                        <td id=\"T_421b4_row8_col17\" class=\"data row8 col17\" >0</td>\n",
       "            </tr>\n",
       "            <tr>\n",
       "                        <th id=\"T_421b4_level0_row9\" class=\"row_heading level0 row9\" >9</th>\n",
       "                        <td id=\"T_421b4_row9_col0\" class=\"data row9 col0\" >0</td>\n",
       "                        <td id=\"T_421b4_row9_col1\" class=\"data row9 col1\" >0</td>\n",
       "                        <td id=\"T_421b4_row9_col2\" class=\"data row9 col2\" >0</td>\n",
       "                        <td id=\"T_421b4_row9_col3\" class=\"data row9 col3\" >0</td>\n",
       "                        <td id=\"T_421b4_row9_col4\" class=\"data row9 col4\" >0</td>\n",
       "                        <td id=\"T_421b4_row9_col5\" class=\"data row9 col5\" >16</td>\n",
       "                        <td id=\"T_421b4_row9_col6\" class=\"data row9 col6\" >248</td>\n",
       "                        <td id=\"T_421b4_row9_col7\" class=\"data row9 col7\" >250</td>\n",
       "                        <td id=\"T_421b4_row9_col8\" class=\"data row9 col8\" >253</td>\n",
       "                        <td id=\"T_421b4_row9_col9\" class=\"data row9 col9\" >253</td>\n",
       "                        <td id=\"T_421b4_row9_col10\" class=\"data row9 col10\" >253</td>\n",
       "                        <td id=\"T_421b4_row9_col11\" class=\"data row9 col11\" >253</td>\n",
       "                        <td id=\"T_421b4_row9_col12\" class=\"data row9 col12\" >232</td>\n",
       "                        <td id=\"T_421b4_row9_col13\" class=\"data row9 col13\" >213</td>\n",
       "                        <td id=\"T_421b4_row9_col14\" class=\"data row9 col14\" >111</td>\n",
       "                        <td id=\"T_421b4_row9_col15\" class=\"data row9 col15\" >2</td>\n",
       "                        <td id=\"T_421b4_row9_col16\" class=\"data row9 col16\" >0</td>\n",
       "                        <td id=\"T_421b4_row9_col17\" class=\"data row9 col17\" >0</td>\n",
       "            </tr>\n",
       "            <tr>\n",
       "                        <th id=\"T_421b4_level0_row10\" class=\"row_heading level0 row10\" >10</th>\n",
       "                        <td id=\"T_421b4_row10_col0\" class=\"data row10 col0\" >0</td>\n",
       "                        <td id=\"T_421b4_row10_col1\" class=\"data row10 col1\" >0</td>\n",
       "                        <td id=\"T_421b4_row10_col2\" class=\"data row10 col2\" >0</td>\n",
       "                        <td id=\"T_421b4_row10_col3\" class=\"data row10 col3\" >0</td>\n",
       "                        <td id=\"T_421b4_row10_col4\" class=\"data row10 col4\" >0</td>\n",
       "                        <td id=\"T_421b4_row10_col5\" class=\"data row10 col5\" >0</td>\n",
       "                        <td id=\"T_421b4_row10_col6\" class=\"data row10 col6\" >0</td>\n",
       "                        <td id=\"T_421b4_row10_col7\" class=\"data row10 col7\" >43</td>\n",
       "                        <td id=\"T_421b4_row10_col8\" class=\"data row10 col8\" >98</td>\n",
       "                        <td id=\"T_421b4_row10_col9\" class=\"data row10 col9\" >98</td>\n",
       "                        <td id=\"T_421b4_row10_col10\" class=\"data row10 col10\" >208</td>\n",
       "                        <td id=\"T_421b4_row10_col11\" class=\"data row10 col11\" >253</td>\n",
       "                        <td id=\"T_421b4_row10_col12\" class=\"data row10 col12\" >253</td>\n",
       "                        <td id=\"T_421b4_row10_col13\" class=\"data row10 col13\" >253</td>\n",
       "                        <td id=\"T_421b4_row10_col14\" class=\"data row10 col14\" >253</td>\n",
       "                        <td id=\"T_421b4_row10_col15\" class=\"data row10 col15\" >187</td>\n",
       "                        <td id=\"T_421b4_row10_col16\" class=\"data row10 col16\" >22</td>\n",
       "                        <td id=\"T_421b4_row10_col17\" class=\"data row10 col17\" >0</td>\n",
       "            </tr>\n",
       "    </tbody></table>"
      ],
      "text/plain": [
       "<pandas.io.formats.style.Styler at 0x7f88b57cf250>"
      ]
     },
     "execution_count": 38,
     "metadata": {},
     "output_type": "execute_result"
    }
   ],
   "source": [
    "# Convert image to numpy array\n",
    "im3_a = array(im3)\n",
    "# Convert to Panda Dataframe for display\n",
    "df = pd.DataFrame(im3_a[4:15,4:22])\n",
    "df.style.set_properties(**{'font-size':'6pt'}).background_gradient('Greys')"
   ]
  },
  {
   "cell_type": "code",
   "execution_count": 39,
   "metadata": {
    "scrolled": true
   },
   "outputs": [
    {
     "data": {
      "text/html": [
       "<style  type=\"text/css\" >\n",
       "#T_40173_row0_col0,#T_40173_row0_col1,#T_40173_row0_col2,#T_40173_row0_col3,#T_40173_row0_col4,#T_40173_row0_col5,#T_40173_row0_col6,#T_40173_row0_col7,#T_40173_row0_col8,#T_40173_row0_col9,#T_40173_row0_col10,#T_40173_row0_col11,#T_40173_row0_col12,#T_40173_row0_col13,#T_40173_row0_col14,#T_40173_row0_col15,#T_40173_row0_col16,#T_40173_row0_col17,#T_40173_row1_col0,#T_40173_row1_col1,#T_40173_row1_col2,#T_40173_row1_col3,#T_40173_row1_col4,#T_40173_row1_col15,#T_40173_row1_col16,#T_40173_row1_col17,#T_40173_row2_col0,#T_40173_row2_col1,#T_40173_row2_col2,#T_40173_row2_col15,#T_40173_row2_col16,#T_40173_row2_col17,#T_40173_row3_col0,#T_40173_row3_col15,#T_40173_row3_col16,#T_40173_row3_col17,#T_40173_row4_col0,#T_40173_row4_col6,#T_40173_row4_col7,#T_40173_row4_col8,#T_40173_row4_col9,#T_40173_row4_col10,#T_40173_row4_col15,#T_40173_row4_col16,#T_40173_row4_col17,#T_40173_row5_col0,#T_40173_row5_col5,#T_40173_row5_col6,#T_40173_row5_col7,#T_40173_row5_col8,#T_40173_row5_col9,#T_40173_row5_col15,#T_40173_row5_col16,#T_40173_row5_col17,#T_40173_row6_col0,#T_40173_row6_col1,#T_40173_row6_col2,#T_40173_row6_col3,#T_40173_row6_col4,#T_40173_row6_col5,#T_40173_row6_col6,#T_40173_row6_col7,#T_40173_row6_col8,#T_40173_row6_col9,#T_40173_row6_col14,#T_40173_row6_col15,#T_40173_row6_col16,#T_40173_row6_col17,#T_40173_row7_col0,#T_40173_row7_col1,#T_40173_row7_col2,#T_40173_row7_col3,#T_40173_row7_col4,#T_40173_row7_col5,#T_40173_row7_col6,#T_40173_row7_col13,#T_40173_row7_col14,#T_40173_row7_col15,#T_40173_row7_col16,#T_40173_row7_col17,#T_40173_row8_col0,#T_40173_row8_col1,#T_40173_row8_col2,#T_40173_row8_col3,#T_40173_row8_col4,#T_40173_row8_col13,#T_40173_row8_col14,#T_40173_row8_col15,#T_40173_row8_col16,#T_40173_row8_col17,#T_40173_row9_col0,#T_40173_row9_col1,#T_40173_row9_col2,#T_40173_row9_col3,#T_40173_row9_col4,#T_40173_row9_col16,#T_40173_row9_col17,#T_40173_row10_col0,#T_40173_row10_col1,#T_40173_row10_col2,#T_40173_row10_col3,#T_40173_row10_col4,#T_40173_row10_col5,#T_40173_row10_col6,#T_40173_row10_col17{\n",
       "            font-size:  6pt;\n",
       "            background-color:  #ffffff;\n",
       "            color:  #000000;\n",
       "        }#T_40173_row1_col5{\n",
       "            font-size:  6pt;\n",
       "            background-color:  #efefef;\n",
       "            color:  #000000;\n",
       "        }#T_40173_row1_col6,#T_40173_row1_col13{\n",
       "            font-size:  6pt;\n",
       "            background-color:  #7c7c7c;\n",
       "            color:  #000000;\n",
       "        }#T_40173_row1_col7{\n",
       "            font-size:  6pt;\n",
       "            background-color:  #4a4a4a;\n",
       "            color:  #f1f1f1;\n",
       "        }#T_40173_row1_col8,#T_40173_row1_col9,#T_40173_row1_col10,#T_40173_row2_col5,#T_40173_row2_col6,#T_40173_row2_col7,#T_40173_row2_col11,#T_40173_row2_col12,#T_40173_row2_col13,#T_40173_row3_col4,#T_40173_row3_col12,#T_40173_row3_col13,#T_40173_row4_col1,#T_40173_row4_col2,#T_40173_row4_col3,#T_40173_row4_col12,#T_40173_row4_col13,#T_40173_row5_col12,#T_40173_row6_col11,#T_40173_row9_col11,#T_40173_row10_col11,#T_40173_row10_col12,#T_40173_row10_col13,#T_40173_row10_col14,#T_40173_row10_col15,#T_40173_row10_col16{\n",
       "            font-size:  6pt;\n",
       "            background-color:  #000000;\n",
       "            color:  #f1f1f1;\n",
       "        }#T_40173_row1_col11{\n",
       "            font-size:  6pt;\n",
       "            background-color:  #606060;\n",
       "            color:  #f1f1f1;\n",
       "        }#T_40173_row1_col12{\n",
       "            font-size:  6pt;\n",
       "            background-color:  #4d4d4d;\n",
       "            color:  #f1f1f1;\n",
       "        }#T_40173_row1_col14{\n",
       "            font-size:  6pt;\n",
       "            background-color:  #bbbbbb;\n",
       "            color:  #000000;\n",
       "        }#T_40173_row2_col3{\n",
       "            font-size:  6pt;\n",
       "            background-color:  #e4e4e4;\n",
       "            color:  #000000;\n",
       "        }#T_40173_row2_col4,#T_40173_row8_col6{\n",
       "            font-size:  6pt;\n",
       "            background-color:  #6b6b6b;\n",
       "            color:  #000000;\n",
       "        }#T_40173_row2_col8,#T_40173_row2_col14,#T_40173_row3_col14{\n",
       "            font-size:  6pt;\n",
       "            background-color:  #171717;\n",
       "            color:  #f1f1f1;\n",
       "        }#T_40173_row2_col9,#T_40173_row3_col11{\n",
       "            font-size:  6pt;\n",
       "            background-color:  #4b4b4b;\n",
       "            color:  #f1f1f1;\n",
       "        }#T_40173_row2_col10,#T_40173_row7_col10,#T_40173_row8_col8,#T_40173_row8_col10,#T_40173_row9_col8,#T_40173_row9_col10{\n",
       "            font-size:  6pt;\n",
       "            background-color:  #010101;\n",
       "            color:  #f1f1f1;\n",
       "        }#T_40173_row3_col1{\n",
       "            font-size:  6pt;\n",
       "            background-color:  #272727;\n",
       "            color:  #f1f1f1;\n",
       "        }#T_40173_row3_col2{\n",
       "            font-size:  6pt;\n",
       "            background-color:  #0a0a0a;\n",
       "            color:  #f1f1f1;\n",
       "        }#T_40173_row3_col3{\n",
       "            font-size:  6pt;\n",
       "            background-color:  #050505;\n",
       "            color:  #f1f1f1;\n",
       "        }#T_40173_row3_col5{\n",
       "            font-size:  6pt;\n",
       "            background-color:  #333333;\n",
       "            color:  #f1f1f1;\n",
       "        }#T_40173_row3_col6{\n",
       "            font-size:  6pt;\n",
       "            background-color:  #e6e6e6;\n",
       "            color:  #000000;\n",
       "        }#T_40173_row3_col7,#T_40173_row3_col10{\n",
       "            font-size:  6pt;\n",
       "            background-color:  #fafafa;\n",
       "            color:  #000000;\n",
       "        }#T_40173_row3_col8{\n",
       "            font-size:  6pt;\n",
       "            background-color:  #fbfbfb;\n",
       "            color:  #000000;\n",
       "        }#T_40173_row3_col9{\n",
       "            font-size:  6pt;\n",
       "            background-color:  #fdfdfd;\n",
       "            color:  #000000;\n",
       "        }#T_40173_row4_col4{\n",
       "            font-size:  6pt;\n",
       "            background-color:  #1b1b1b;\n",
       "            color:  #f1f1f1;\n",
       "        }#T_40173_row4_col5{\n",
       "            font-size:  6pt;\n",
       "            background-color:  #e0e0e0;\n",
       "            color:  #000000;\n",
       "        }#T_40173_row4_col11{\n",
       "            font-size:  6pt;\n",
       "            background-color:  #4e4e4e;\n",
       "            color:  #f1f1f1;\n",
       "        }#T_40173_row4_col14{\n",
       "            font-size:  6pt;\n",
       "            background-color:  #767676;\n",
       "            color:  #000000;\n",
       "        }#T_40173_row5_col1{\n",
       "            font-size:  6pt;\n",
       "            background-color:  #fcfcfc;\n",
       "            color:  #000000;\n",
       "        }#T_40173_row5_col2,#T_40173_row5_col3{\n",
       "            font-size:  6pt;\n",
       "            background-color:  #f6f6f6;\n",
       "            color:  #000000;\n",
       "        }#T_40173_row5_col4,#T_40173_row7_col7{\n",
       "            font-size:  6pt;\n",
       "            background-color:  #f8f8f8;\n",
       "            color:  #000000;\n",
       "        }#T_40173_row5_col10,#T_40173_row10_col7{\n",
       "            font-size:  6pt;\n",
       "            background-color:  #e8e8e8;\n",
       "            color:  #000000;\n",
       "        }#T_40173_row5_col11{\n",
       "            font-size:  6pt;\n",
       "            background-color:  #222222;\n",
       "            color:  #f1f1f1;\n",
       "        }#T_40173_row5_col13,#T_40173_row6_col12{\n",
       "            font-size:  6pt;\n",
       "            background-color:  #090909;\n",
       "            color:  #f1f1f1;\n",
       "        }#T_40173_row5_col14{\n",
       "            font-size:  6pt;\n",
       "            background-color:  #d0d0d0;\n",
       "            color:  #000000;\n",
       "        }#T_40173_row6_col10,#T_40173_row7_col11,#T_40173_row9_col6{\n",
       "            font-size:  6pt;\n",
       "            background-color:  #060606;\n",
       "            color:  #f1f1f1;\n",
       "        }#T_40173_row6_col13{\n",
       "            font-size:  6pt;\n",
       "            background-color:  #979797;\n",
       "            color:  #000000;\n",
       "        }#T_40173_row7_col8{\n",
       "            font-size:  6pt;\n",
       "            background-color:  #b6b6b6;\n",
       "            color:  #000000;\n",
       "        }#T_40173_row7_col9{\n",
       "            font-size:  6pt;\n",
       "            background-color:  #252525;\n",
       "            color:  #f1f1f1;\n",
       "        }#T_40173_row7_col12{\n",
       "            font-size:  6pt;\n",
       "            background-color:  #999999;\n",
       "            color:  #000000;\n",
       "        }#T_40173_row8_col5{\n",
       "            font-size:  6pt;\n",
       "            background-color:  #f9f9f9;\n",
       "            color:  #000000;\n",
       "        }#T_40173_row8_col7{\n",
       "            font-size:  6pt;\n",
       "            background-color:  #101010;\n",
       "            color:  #f1f1f1;\n",
       "        }#T_40173_row8_col9,#T_40173_row9_col9{\n",
       "            font-size:  6pt;\n",
       "            background-color:  #020202;\n",
       "            color:  #f1f1f1;\n",
       "        }#T_40173_row8_col11{\n",
       "            font-size:  6pt;\n",
       "            background-color:  #545454;\n",
       "            color:  #f1f1f1;\n",
       "        }#T_40173_row8_col12{\n",
       "            font-size:  6pt;\n",
       "            background-color:  #f1f1f1;\n",
       "            color:  #000000;\n",
       "        }#T_40173_row9_col5{\n",
       "            font-size:  6pt;\n",
       "            background-color:  #f7f7f7;\n",
       "            color:  #000000;\n",
       "        }#T_40173_row9_col7{\n",
       "            font-size:  6pt;\n",
       "            background-color:  #030303;\n",
       "            color:  #f1f1f1;\n",
       "        }#T_40173_row9_col12{\n",
       "            font-size:  6pt;\n",
       "            background-color:  #181818;\n",
       "            color:  #f1f1f1;\n",
       "        }#T_40173_row9_col13{\n",
       "            font-size:  6pt;\n",
       "            background-color:  #303030;\n",
       "            color:  #f1f1f1;\n",
       "        }#T_40173_row9_col14{\n",
       "            font-size:  6pt;\n",
       "            background-color:  #a9a9a9;\n",
       "            color:  #000000;\n",
       "        }#T_40173_row9_col15{\n",
       "            font-size:  6pt;\n",
       "            background-color:  #fefefe;\n",
       "            color:  #000000;\n",
       "        }#T_40173_row10_col8,#T_40173_row10_col9{\n",
       "            font-size:  6pt;\n",
       "            background-color:  #bababa;\n",
       "            color:  #000000;\n",
       "        }#T_40173_row10_col10{\n",
       "            font-size:  6pt;\n",
       "            background-color:  #393939;\n",
       "            color:  #f1f1f1;\n",
       "        }</style><table id=\"T_40173_\" ><thead>    <tr>        <th class=\"blank level0\" ></th>        <th class=\"col_heading level0 col0\" >0</th>        <th class=\"col_heading level0 col1\" >1</th>        <th class=\"col_heading level0 col2\" >2</th>        <th class=\"col_heading level0 col3\" >3</th>        <th class=\"col_heading level0 col4\" >4</th>        <th class=\"col_heading level0 col5\" >5</th>        <th class=\"col_heading level0 col6\" >6</th>        <th class=\"col_heading level0 col7\" >7</th>        <th class=\"col_heading level0 col8\" >8</th>        <th class=\"col_heading level0 col9\" >9</th>        <th class=\"col_heading level0 col10\" >10</th>        <th class=\"col_heading level0 col11\" >11</th>        <th class=\"col_heading level0 col12\" >12</th>        <th class=\"col_heading level0 col13\" >13</th>        <th class=\"col_heading level0 col14\" >14</th>        <th class=\"col_heading level0 col15\" >15</th>        <th class=\"col_heading level0 col16\" >16</th>        <th class=\"col_heading level0 col17\" >17</th>    </tr></thead><tbody>\n",
       "                <tr>\n",
       "                        <th id=\"T_40173_level0_row0\" class=\"row_heading level0 row0\" >0</th>\n",
       "                        <td id=\"T_40173_row0_col0\" class=\"data row0 col0\" >0</td>\n",
       "                        <td id=\"T_40173_row0_col1\" class=\"data row0 col1\" >0</td>\n",
       "                        <td id=\"T_40173_row0_col2\" class=\"data row0 col2\" >0</td>\n",
       "                        <td id=\"T_40173_row0_col3\" class=\"data row0 col3\" >0</td>\n",
       "                        <td id=\"T_40173_row0_col4\" class=\"data row0 col4\" >0</td>\n",
       "                        <td id=\"T_40173_row0_col5\" class=\"data row0 col5\" >0</td>\n",
       "                        <td id=\"T_40173_row0_col6\" class=\"data row0 col6\" >0</td>\n",
       "                        <td id=\"T_40173_row0_col7\" class=\"data row0 col7\" >0</td>\n",
       "                        <td id=\"T_40173_row0_col8\" class=\"data row0 col8\" >0</td>\n",
       "                        <td id=\"T_40173_row0_col9\" class=\"data row0 col9\" >0</td>\n",
       "                        <td id=\"T_40173_row0_col10\" class=\"data row0 col10\" >0</td>\n",
       "                        <td id=\"T_40173_row0_col11\" class=\"data row0 col11\" >0</td>\n",
       "                        <td id=\"T_40173_row0_col12\" class=\"data row0 col12\" >0</td>\n",
       "                        <td id=\"T_40173_row0_col13\" class=\"data row0 col13\" >0</td>\n",
       "                        <td id=\"T_40173_row0_col14\" class=\"data row0 col14\" >0</td>\n",
       "                        <td id=\"T_40173_row0_col15\" class=\"data row0 col15\" >0</td>\n",
       "                        <td id=\"T_40173_row0_col16\" class=\"data row0 col16\" >0</td>\n",
       "                        <td id=\"T_40173_row0_col17\" class=\"data row0 col17\" >0</td>\n",
       "            </tr>\n",
       "            <tr>\n",
       "                        <th id=\"T_40173_level0_row1\" class=\"row_heading level0 row1\" >1</th>\n",
       "                        <td id=\"T_40173_row1_col0\" class=\"data row1 col0\" >0</td>\n",
       "                        <td id=\"T_40173_row1_col1\" class=\"data row1 col1\" >0</td>\n",
       "                        <td id=\"T_40173_row1_col2\" class=\"data row1 col2\" >0</td>\n",
       "                        <td id=\"T_40173_row1_col3\" class=\"data row1 col3\" >0</td>\n",
       "                        <td id=\"T_40173_row1_col4\" class=\"data row1 col4\" >0</td>\n",
       "                        <td id=\"T_40173_row1_col5\" class=\"data row1 col5\" >29</td>\n",
       "                        <td id=\"T_40173_row1_col6\" class=\"data row1 col6\" >150</td>\n",
       "                        <td id=\"T_40173_row1_col7\" class=\"data row1 col7\" >195</td>\n",
       "                        <td id=\"T_40173_row1_col8\" class=\"data row1 col8\" >254</td>\n",
       "                        <td id=\"T_40173_row1_col9\" class=\"data row1 col9\" >255</td>\n",
       "                        <td id=\"T_40173_row1_col10\" class=\"data row1 col10\" >254</td>\n",
       "                        <td id=\"T_40173_row1_col11\" class=\"data row1 col11\" >176</td>\n",
       "                        <td id=\"T_40173_row1_col12\" class=\"data row1 col12\" >193</td>\n",
       "                        <td id=\"T_40173_row1_col13\" class=\"data row1 col13\" >150</td>\n",
       "                        <td id=\"T_40173_row1_col14\" class=\"data row1 col14\" >96</td>\n",
       "                        <td id=\"T_40173_row1_col15\" class=\"data row1 col15\" >0</td>\n",
       "                        <td id=\"T_40173_row1_col16\" class=\"data row1 col16\" >0</td>\n",
       "                        <td id=\"T_40173_row1_col17\" class=\"data row1 col17\" >0</td>\n",
       "            </tr>\n",
       "            <tr>\n",
       "                        <th id=\"T_40173_level0_row2\" class=\"row_heading level0 row2\" >2</th>\n",
       "                        <td id=\"T_40173_row2_col0\" class=\"data row2 col0\" >0</td>\n",
       "                        <td id=\"T_40173_row2_col1\" class=\"data row2 col1\" >0</td>\n",
       "                        <td id=\"T_40173_row2_col2\" class=\"data row2 col2\" >0</td>\n",
       "                        <td id=\"T_40173_row2_col3\" class=\"data row2 col3\" >48</td>\n",
       "                        <td id=\"T_40173_row2_col4\" class=\"data row2 col4\" >166</td>\n",
       "                        <td id=\"T_40173_row2_col5\" class=\"data row2 col5\" >224</td>\n",
       "                        <td id=\"T_40173_row2_col6\" class=\"data row2 col6\" >253</td>\n",
       "                        <td id=\"T_40173_row2_col7\" class=\"data row2 col7\" >253</td>\n",
       "                        <td id=\"T_40173_row2_col8\" class=\"data row2 col8\" >234</td>\n",
       "                        <td id=\"T_40173_row2_col9\" class=\"data row2 col9\" >196</td>\n",
       "                        <td id=\"T_40173_row2_col10\" class=\"data row2 col10\" >253</td>\n",
       "                        <td id=\"T_40173_row2_col11\" class=\"data row2 col11\" >253</td>\n",
       "                        <td id=\"T_40173_row2_col12\" class=\"data row2 col12\" >253</td>\n",
       "                        <td id=\"T_40173_row2_col13\" class=\"data row2 col13\" >253</td>\n",
       "                        <td id=\"T_40173_row2_col14\" class=\"data row2 col14\" >233</td>\n",
       "                        <td id=\"T_40173_row2_col15\" class=\"data row2 col15\" >0</td>\n",
       "                        <td id=\"T_40173_row2_col16\" class=\"data row2 col16\" >0</td>\n",
       "                        <td id=\"T_40173_row2_col17\" class=\"data row2 col17\" >0</td>\n",
       "            </tr>\n",
       "            <tr>\n",
       "                        <th id=\"T_40173_level0_row3\" class=\"row_heading level0 row3\" >3</th>\n",
       "                        <td id=\"T_40173_row3_col0\" class=\"data row3 col0\" >0</td>\n",
       "                        <td id=\"T_40173_row3_col1\" class=\"data row3 col1\" >93</td>\n",
       "                        <td id=\"T_40173_row3_col2\" class=\"data row3 col2\" >244</td>\n",
       "                        <td id=\"T_40173_row3_col3\" class=\"data row3 col3\" >249</td>\n",
       "                        <td id=\"T_40173_row3_col4\" class=\"data row3 col4\" >253</td>\n",
       "                        <td id=\"T_40173_row3_col5\" class=\"data row3 col5\" >187</td>\n",
       "                        <td id=\"T_40173_row3_col6\" class=\"data row3 col6\" >46</td>\n",
       "                        <td id=\"T_40173_row3_col7\" class=\"data row3 col7\" >10</td>\n",
       "                        <td id=\"T_40173_row3_col8\" class=\"data row3 col8\" >8</td>\n",
       "                        <td id=\"T_40173_row3_col9\" class=\"data row3 col9\" >4</td>\n",
       "                        <td id=\"T_40173_row3_col10\" class=\"data row3 col10\" >10</td>\n",
       "                        <td id=\"T_40173_row3_col11\" class=\"data row3 col11\" >194</td>\n",
       "                        <td id=\"T_40173_row3_col12\" class=\"data row3 col12\" >253</td>\n",
       "                        <td id=\"T_40173_row3_col13\" class=\"data row3 col13\" >253</td>\n",
       "                        <td id=\"T_40173_row3_col14\" class=\"data row3 col14\" >233</td>\n",
       "                        <td id=\"T_40173_row3_col15\" class=\"data row3 col15\" >0</td>\n",
       "                        <td id=\"T_40173_row3_col16\" class=\"data row3 col16\" >0</td>\n",
       "                        <td id=\"T_40173_row3_col17\" class=\"data row3 col17\" >0</td>\n",
       "            </tr>\n",
       "            <tr>\n",
       "                        <th id=\"T_40173_level0_row4\" class=\"row_heading level0 row4\" >4</th>\n",
       "                        <td id=\"T_40173_row4_col0\" class=\"data row4 col0\" >0</td>\n",
       "                        <td id=\"T_40173_row4_col1\" class=\"data row4 col1\" >107</td>\n",
       "                        <td id=\"T_40173_row4_col2\" class=\"data row4 col2\" >253</td>\n",
       "                        <td id=\"T_40173_row4_col3\" class=\"data row4 col3\" >253</td>\n",
       "                        <td id=\"T_40173_row4_col4\" class=\"data row4 col4\" >230</td>\n",
       "                        <td id=\"T_40173_row4_col5\" class=\"data row4 col5\" >48</td>\n",
       "                        <td id=\"T_40173_row4_col6\" class=\"data row4 col6\" >0</td>\n",
       "                        <td id=\"T_40173_row4_col7\" class=\"data row4 col7\" >0</td>\n",
       "                        <td id=\"T_40173_row4_col8\" class=\"data row4 col8\" >0</td>\n",
       "                        <td id=\"T_40173_row4_col9\" class=\"data row4 col9\" >0</td>\n",
       "                        <td id=\"T_40173_row4_col10\" class=\"data row4 col10\" >0</td>\n",
       "                        <td id=\"T_40173_row4_col11\" class=\"data row4 col11\" >192</td>\n",
       "                        <td id=\"T_40173_row4_col12\" class=\"data row4 col12\" >253</td>\n",
       "                        <td id=\"T_40173_row4_col13\" class=\"data row4 col13\" >253</td>\n",
       "                        <td id=\"T_40173_row4_col14\" class=\"data row4 col14\" >156</td>\n",
       "                        <td id=\"T_40173_row4_col15\" class=\"data row4 col15\" >0</td>\n",
       "                        <td id=\"T_40173_row4_col16\" class=\"data row4 col16\" >0</td>\n",
       "                        <td id=\"T_40173_row4_col17\" class=\"data row4 col17\" >0</td>\n",
       "            </tr>\n",
       "            <tr>\n",
       "                        <th id=\"T_40173_level0_row5\" class=\"row_heading level0 row5\" >5</th>\n",
       "                        <td id=\"T_40173_row5_col0\" class=\"data row5 col0\" >0</td>\n",
       "                        <td id=\"T_40173_row5_col1\" class=\"data row5 col1\" >3</td>\n",
       "                        <td id=\"T_40173_row5_col2\" class=\"data row5 col2\" >20</td>\n",
       "                        <td id=\"T_40173_row5_col3\" class=\"data row5 col3\" >20</td>\n",
       "                        <td id=\"T_40173_row5_col4\" class=\"data row5 col4\" >15</td>\n",
       "                        <td id=\"T_40173_row5_col5\" class=\"data row5 col5\" >0</td>\n",
       "                        <td id=\"T_40173_row5_col6\" class=\"data row5 col6\" >0</td>\n",
       "                        <td id=\"T_40173_row5_col7\" class=\"data row5 col7\" >0</td>\n",
       "                        <td id=\"T_40173_row5_col8\" class=\"data row5 col8\" >0</td>\n",
       "                        <td id=\"T_40173_row5_col9\" class=\"data row5 col9\" >0</td>\n",
       "                        <td id=\"T_40173_row5_col10\" class=\"data row5 col10\" >43</td>\n",
       "                        <td id=\"T_40173_row5_col11\" class=\"data row5 col11\" >224</td>\n",
       "                        <td id=\"T_40173_row5_col12\" class=\"data row5 col12\" >253</td>\n",
       "                        <td id=\"T_40173_row5_col13\" class=\"data row5 col13\" >245</td>\n",
       "                        <td id=\"T_40173_row5_col14\" class=\"data row5 col14\" >74</td>\n",
       "                        <td id=\"T_40173_row5_col15\" class=\"data row5 col15\" >0</td>\n",
       "                        <td id=\"T_40173_row5_col16\" class=\"data row5 col16\" >0</td>\n",
       "                        <td id=\"T_40173_row5_col17\" class=\"data row5 col17\" >0</td>\n",
       "            </tr>\n",
       "            <tr>\n",
       "                        <th id=\"T_40173_level0_row6\" class=\"row_heading level0 row6\" >6</th>\n",
       "                        <td id=\"T_40173_row6_col0\" class=\"data row6 col0\" >0</td>\n",
       "                        <td id=\"T_40173_row6_col1\" class=\"data row6 col1\" >0</td>\n",
       "                        <td id=\"T_40173_row6_col2\" class=\"data row6 col2\" >0</td>\n",
       "                        <td id=\"T_40173_row6_col3\" class=\"data row6 col3\" >0</td>\n",
       "                        <td id=\"T_40173_row6_col4\" class=\"data row6 col4\" >0</td>\n",
       "                        <td id=\"T_40173_row6_col5\" class=\"data row6 col5\" >0</td>\n",
       "                        <td id=\"T_40173_row6_col6\" class=\"data row6 col6\" >0</td>\n",
       "                        <td id=\"T_40173_row6_col7\" class=\"data row6 col7\" >0</td>\n",
       "                        <td id=\"T_40173_row6_col8\" class=\"data row6 col8\" >0</td>\n",
       "                        <td id=\"T_40173_row6_col9\" class=\"data row6 col9\" >0</td>\n",
       "                        <td id=\"T_40173_row6_col10\" class=\"data row6 col10\" >249</td>\n",
       "                        <td id=\"T_40173_row6_col11\" class=\"data row6 col11\" >253</td>\n",
       "                        <td id=\"T_40173_row6_col12\" class=\"data row6 col12\" >245</td>\n",
       "                        <td id=\"T_40173_row6_col13\" class=\"data row6 col13\" >126</td>\n",
       "                        <td id=\"T_40173_row6_col14\" class=\"data row6 col14\" >0</td>\n",
       "                        <td id=\"T_40173_row6_col15\" class=\"data row6 col15\" >0</td>\n",
       "                        <td id=\"T_40173_row6_col16\" class=\"data row6 col16\" >0</td>\n",
       "                        <td id=\"T_40173_row6_col17\" class=\"data row6 col17\" >0</td>\n",
       "            </tr>\n",
       "            <tr>\n",
       "                        <th id=\"T_40173_level0_row7\" class=\"row_heading level0 row7\" >7</th>\n",
       "                        <td id=\"T_40173_row7_col0\" class=\"data row7 col0\" >0</td>\n",
       "                        <td id=\"T_40173_row7_col1\" class=\"data row7 col1\" >0</td>\n",
       "                        <td id=\"T_40173_row7_col2\" class=\"data row7 col2\" >0</td>\n",
       "                        <td id=\"T_40173_row7_col3\" class=\"data row7 col3\" >0</td>\n",
       "                        <td id=\"T_40173_row7_col4\" class=\"data row7 col4\" >0</td>\n",
       "                        <td id=\"T_40173_row7_col5\" class=\"data row7 col5\" >0</td>\n",
       "                        <td id=\"T_40173_row7_col6\" class=\"data row7 col6\" >0</td>\n",
       "                        <td id=\"T_40173_row7_col7\" class=\"data row7 col7\" >14</td>\n",
       "                        <td id=\"T_40173_row7_col8\" class=\"data row7 col8\" >101</td>\n",
       "                        <td id=\"T_40173_row7_col9\" class=\"data row7 col9\" >223</td>\n",
       "                        <td id=\"T_40173_row7_col10\" class=\"data row7 col10\" >253</td>\n",
       "                        <td id=\"T_40173_row7_col11\" class=\"data row7 col11\" >248</td>\n",
       "                        <td id=\"T_40173_row7_col12\" class=\"data row7 col12\" >124</td>\n",
       "                        <td id=\"T_40173_row7_col13\" class=\"data row7 col13\" >0</td>\n",
       "                        <td id=\"T_40173_row7_col14\" class=\"data row7 col14\" >0</td>\n",
       "                        <td id=\"T_40173_row7_col15\" class=\"data row7 col15\" >0</td>\n",
       "                        <td id=\"T_40173_row7_col16\" class=\"data row7 col16\" >0</td>\n",
       "                        <td id=\"T_40173_row7_col17\" class=\"data row7 col17\" >0</td>\n",
       "            </tr>\n",
       "            <tr>\n",
       "                        <th id=\"T_40173_level0_row8\" class=\"row_heading level0 row8\" >8</th>\n",
       "                        <td id=\"T_40173_row8_col0\" class=\"data row8 col0\" >0</td>\n",
       "                        <td id=\"T_40173_row8_col1\" class=\"data row8 col1\" >0</td>\n",
       "                        <td id=\"T_40173_row8_col2\" class=\"data row8 col2\" >0</td>\n",
       "                        <td id=\"T_40173_row8_col3\" class=\"data row8 col3\" >0</td>\n",
       "                        <td id=\"T_40173_row8_col4\" class=\"data row8 col4\" >0</td>\n",
       "                        <td id=\"T_40173_row8_col5\" class=\"data row8 col5\" >11</td>\n",
       "                        <td id=\"T_40173_row8_col6\" class=\"data row8 col6\" >166</td>\n",
       "                        <td id=\"T_40173_row8_col7\" class=\"data row8 col7\" >239</td>\n",
       "                        <td id=\"T_40173_row8_col8\" class=\"data row8 col8\" >253</td>\n",
       "                        <td id=\"T_40173_row8_col9\" class=\"data row8 col9\" >253</td>\n",
       "                        <td id=\"T_40173_row8_col10\" class=\"data row8 col10\" >253</td>\n",
       "                        <td id=\"T_40173_row8_col11\" class=\"data row8 col11\" >187</td>\n",
       "                        <td id=\"T_40173_row8_col12\" class=\"data row8 col12\" >30</td>\n",
       "                        <td id=\"T_40173_row8_col13\" class=\"data row8 col13\" >0</td>\n",
       "                        <td id=\"T_40173_row8_col14\" class=\"data row8 col14\" >0</td>\n",
       "                        <td id=\"T_40173_row8_col15\" class=\"data row8 col15\" >0</td>\n",
       "                        <td id=\"T_40173_row8_col16\" class=\"data row8 col16\" >0</td>\n",
       "                        <td id=\"T_40173_row8_col17\" class=\"data row8 col17\" >0</td>\n",
       "            </tr>\n",
       "            <tr>\n",
       "                        <th id=\"T_40173_level0_row9\" class=\"row_heading level0 row9\" >9</th>\n",
       "                        <td id=\"T_40173_row9_col0\" class=\"data row9 col0\" >0</td>\n",
       "                        <td id=\"T_40173_row9_col1\" class=\"data row9 col1\" >0</td>\n",
       "                        <td id=\"T_40173_row9_col2\" class=\"data row9 col2\" >0</td>\n",
       "                        <td id=\"T_40173_row9_col3\" class=\"data row9 col3\" >0</td>\n",
       "                        <td id=\"T_40173_row9_col4\" class=\"data row9 col4\" >0</td>\n",
       "                        <td id=\"T_40173_row9_col5\" class=\"data row9 col5\" >16</td>\n",
       "                        <td id=\"T_40173_row9_col6\" class=\"data row9 col6\" >248</td>\n",
       "                        <td id=\"T_40173_row9_col7\" class=\"data row9 col7\" >250</td>\n",
       "                        <td id=\"T_40173_row9_col8\" class=\"data row9 col8\" >253</td>\n",
       "                        <td id=\"T_40173_row9_col9\" class=\"data row9 col9\" >253</td>\n",
       "                        <td id=\"T_40173_row9_col10\" class=\"data row9 col10\" >253</td>\n",
       "                        <td id=\"T_40173_row9_col11\" class=\"data row9 col11\" >253</td>\n",
       "                        <td id=\"T_40173_row9_col12\" class=\"data row9 col12\" >232</td>\n",
       "                        <td id=\"T_40173_row9_col13\" class=\"data row9 col13\" >213</td>\n",
       "                        <td id=\"T_40173_row9_col14\" class=\"data row9 col14\" >111</td>\n",
       "                        <td id=\"T_40173_row9_col15\" class=\"data row9 col15\" >2</td>\n",
       "                        <td id=\"T_40173_row9_col16\" class=\"data row9 col16\" >0</td>\n",
       "                        <td id=\"T_40173_row9_col17\" class=\"data row9 col17\" >0</td>\n",
       "            </tr>\n",
       "            <tr>\n",
       "                        <th id=\"T_40173_level0_row10\" class=\"row_heading level0 row10\" >10</th>\n",
       "                        <td id=\"T_40173_row10_col0\" class=\"data row10 col0\" >0</td>\n",
       "                        <td id=\"T_40173_row10_col1\" class=\"data row10 col1\" >0</td>\n",
       "                        <td id=\"T_40173_row10_col2\" class=\"data row10 col2\" >0</td>\n",
       "                        <td id=\"T_40173_row10_col3\" class=\"data row10 col3\" >0</td>\n",
       "                        <td id=\"T_40173_row10_col4\" class=\"data row10 col4\" >0</td>\n",
       "                        <td id=\"T_40173_row10_col5\" class=\"data row10 col5\" >0</td>\n",
       "                        <td id=\"T_40173_row10_col6\" class=\"data row10 col6\" >0</td>\n",
       "                        <td id=\"T_40173_row10_col7\" class=\"data row10 col7\" >43</td>\n",
       "                        <td id=\"T_40173_row10_col8\" class=\"data row10 col8\" >98</td>\n",
       "                        <td id=\"T_40173_row10_col9\" class=\"data row10 col9\" >98</td>\n",
       "                        <td id=\"T_40173_row10_col10\" class=\"data row10 col10\" >208</td>\n",
       "                        <td id=\"T_40173_row10_col11\" class=\"data row10 col11\" >253</td>\n",
       "                        <td id=\"T_40173_row10_col12\" class=\"data row10 col12\" >253</td>\n",
       "                        <td id=\"T_40173_row10_col13\" class=\"data row10 col13\" >253</td>\n",
       "                        <td id=\"T_40173_row10_col14\" class=\"data row10 col14\" >253</td>\n",
       "                        <td id=\"T_40173_row10_col15\" class=\"data row10 col15\" >187</td>\n",
       "                        <td id=\"T_40173_row10_col16\" class=\"data row10 col16\" >22</td>\n",
       "                        <td id=\"T_40173_row10_col17\" class=\"data row10 col17\" >0</td>\n",
       "            </tr>\n",
       "    </tbody></table>"
      ],
      "text/plain": [
       "<pandas.io.formats.style.Styler at 0x7f88b575ed90>"
      ]
     },
     "execution_count": 39,
     "metadata": {},
     "output_type": "execute_result"
    }
   ],
   "source": [
    "# Convert image to tensor\n",
    "im3_t = tensor(im3)\n",
    "# Again use Panda DataFrame to display\n",
    "df = pd.DataFrame(im3_t[4:15,4:22])\n",
    "df.style.set_properties(**{'font-size':'6pt'}).background_gradient('Greys')"
   ]
  },
  {
   "cell_type": "code",
   "execution_count": 40,
   "metadata": {},
   "outputs": [
    {
     "data": {
      "text/plain": [
       "(6131, 6265)"
      ]
     },
     "execution_count": 40,
     "metadata": {},
     "output_type": "execute_result"
    }
   ],
   "source": [
    "# Create an array of image tensors\n",
    "three_tensors = [tensor(Image.open(o)) for o in threes]\n",
    "seven_tensors = [tensor(Image.open(o)) for o in sevens]\n",
    "len(three_tensors),len(seven_tensors)"
   ]
  },
  {
   "cell_type": "code",
   "execution_count": 41,
   "metadata": {},
   "outputs": [
    {
     "data": {
      "image/png": "[encoded data removed]",
      "text/plain": [
       "<Figure size 72x72 with 1 Axes>"
      ]
     },
     "metadata": {
      "needs_background": "light"
     },
     "output_type": "display_data"
    }
   ],
   "source": [
    "show_image(three_tensors[1]);"
   ]
  },
  {
   "cell_type": "code",
   "execution_count": 42,
   "metadata": {
    "scrolled": false
   },
   "outputs": [
    {
     "data": {
      "text/plain": [
       "torch.Size([6131, 28, 28])"
      ]
     },
     "execution_count": 42,
     "metadata": {},
     "output_type": "execute_result"
    }
   ],
   "source": [
    "# Convert array of tensors into a 3 dimensional tensor\n",
    "# Normalize values 0 to 1\n",
    "stacked_threes = torch.stack(three_tensors).float()/255\n",
    "stacked_sevens = torch.stack(seven_tensors).float()/255\n",
    "stacked_threes.shape"
   ]
  },
  {
   "cell_type": "code",
   "execution_count": 43,
   "metadata": {
    "scrolled": true
   },
   "outputs": [
    {
     "data": {
      "image/png": "[encoded data removed]",
      "text/plain": [
       "<Figure size 72x72 with 1 Axes>"
      ]
     },
     "metadata": {
      "needs_background": "light"
     },
     "output_type": "display_data"
    }
   ],
   "source": [
    "# Average across the first dimension\n",
    "mean3 = stacked_threes.mean(0)\n",
    "show_image(mean3);"
   ]
  },
  {
   "cell_type": "code",
   "execution_count": 44,
   "metadata": {},
   "outputs": [
    {
     "data": {
      "image/png": "[encoded data removed]",
      "text/plain": [
       "<Figure size 72x72 with 1 Axes>"
      ]
     },
     "metadata": {
      "needs_background": "light"
     },
     "output_type": "display_data"
    }
   ],
   "source": [
    "mean7 = stacked_sevens.mean(0)\n",
    "show_image(mean7);"
   ]
  },
  {
   "cell_type": "code",
   "execution_count": 45,
   "metadata": {},
   "outputs": [
    {
     "data": {
      "image/png": "[encoded data removed]",
      "text/plain": [
       "<Figure size 72x72 with 1 Axes>"
      ]
     },
     "metadata": {
      "needs_background": "light"
     },
     "output_type": "display_data"
    }
   ],
   "source": [
    "# Take a test 3 and decide if it's more similar to a 3 or 7\n",
    "a_3 = stacked_threes[1]\n",
    "show_image(a_3);"
   ]
  },
  {
   "cell_type": "code",
   "execution_count": 46,
   "metadata": {
    "scrolled": true
   },
   "outputs": [
    {
     "data": {
      "text/plain": [
       "(tensor(0.1114), tensor(0.2021))"
      ]
     },
     "execution_count": 46,
     "metadata": {},
     "output_type": "execute_result"
    }
   ],
   "source": [
    "# L1 Norm\n",
    "dist_3_abs = (a_3 - mean3).abs().mean()\n",
    "# Root Mean Error\n",
    "dist_3_sqr = ((a_3 - mean3)**2).mean().sqrt()\n",
    "dist_3_abs,dist_3_sqr"
   ]
  },
  {
   "cell_type": "code",
   "execution_count": 58,
   "metadata": {},
   "outputs": [
    {
     "data": {
      "text/plain": [
       "(tensor(0.1586), tensor(0.3021))"
      ]
     },
     "execution_count": 58,
     "metadata": {},
     "output_type": "execute_result"
    }
   ],
   "source": [
    "# L1 Norm\n",
    "dist_7_abs = (a_3 - mean7).abs().mean()\n",
    "# Root Mean Error\n",
    "dist_7_sqr = ((a_3 - mean7)**2).mean().sqrt()\n",
    "dist_7_abs,dist_7_sqr"
   ]
  },
  {
   "cell_type": "markdown",
   "metadata": {},
   "source": [
    "The distance of test image is closer to a (3) than a (7)."
   ]
  },
  {
   "cell_type": "code",
   "execution_count": 53,
   "metadata": {},
   "outputs": [
    {
     "data": {
      "text/plain": [
       "(tensor(0.1586), tensor(0.3021))"
      ]
     },
     "execution_count": 53,
     "metadata": {},
     "output_type": "execute_result"
    }
   ],
   "source": [
    "# PyTorch Provides these functions\n",
    "# - included in the import torch.nn.functional as F\n",
    "# - l1_loss => L1 Norm\n",
    "# - mse_loss => Mean Squared Error\n",
    "F.l1_loss(a_3.float(),mean7), F.mse_loss(a_3,mean7).sqrt()"
   ]
  },
  {
   "cell_type": "code",
   "execution_count": 56,
   "metadata": {
    "scrolled": true
   },
   "outputs": [
    {
     "name": "stdout",
     "output_type": "stream",
     "text": [
      "0.917 / 0.985\n"
     ]
    }
   ],
   "source": [
    "# Load Validation Set\n",
    "valid_3_tens = torch.stack([tensor(Image.open(o)) \n",
    "                            for o in (path/'valid'/'3').ls()])\n",
    "valid_3_tens = valid_3_tens.float()/255\n",
    "valid_7_tens = torch.stack([tensor(Image.open(o)) \n",
    "                            for o in (path/'valid'/'7').ls()])\n",
    "valid_7_tens = valid_7_tens.float()/255\n",
    "valid_3_tens.shape,valid_7_tens.shape\n",
    "\n",
    "# L1 Norm Loss Function\n",
    "def mnist_dist(a, b):\n",
    "    return (a-b).abs().mean((-1,-2))\n",
    "    \n",
    "dist_3_3 = mnist_dist(valid_3_tens, mean3)\n",
    "dist_3_7 = mnist_dist(valid_3_tens, mean7)\n",
    "\n",
    "acc_3 = (dist_3_3 < dist_3_7).float().mean()\n",
    "\n",
    "dist_7_3 = mnist_dist(valid_7_tens, mean3)\n",
    "dist_7_7 = mnist_dist(valid_7_tens, mean7)\n",
    "\n",
    "acc_7 = (dist_7_3 > dist_7_7).float().mean()\n",
    "\n",
    "print(f\"%0.3f / %0.3f\" % (acc_3, acc_7))"
   ]
  },
  {
   "cell_type": "markdown",
   "metadata": {},
   "source": [
    "## **Let's apply SGD**"
   ]
  },
  {
   "cell_type": "code",
   "execution_count": 60,
   "metadata": {},
   "outputs": [],
   "source": [
    "def init_params(size, std=1.0): return (torch.randn(size)*std).requires_grad_()\n",
    "\n",
    "weights = init_params((28*28,1))\n",
    "bias = init_params(1)"
   ]
  },
  {
   "cell_type": "code",
   "execution_count": 61,
   "metadata": {},
   "outputs": [
    {
     "data": {
      "text/plain": [
       "tensor([3.0332], grad_fn=<AddBackward0>)"
      ]
     },
     "execution_count": 61,
     "metadata": {},
     "output_type": "execute_result"
    }
   ],
   "source": [
    "(train_x[0]*weights.T).sum() + bias"
   ]
  },
  {
   "cell_type": "code",
   "execution_count": 62,
   "metadata": {},
   "outputs": [
    {
     "data": {
      "text/plain": [
       "tensor([[ 3.0332],\n",
       "        [-9.9617],\n",
       "        [-6.6830],\n",
       "        ...,\n",
       "        [10.8647],\n",
       "        [ 8.6148],\n",
       "        [-4.9130]], grad_fn=<AddBackward0>)"
      ]
     },
     "execution_count": 62,
     "metadata": {},
     "output_type": "execute_result"
    }
   ],
   "source": [
    "def linear1(xb): return xb@weights + bias\n",
    "preds = linear1(train_x)\n",
    "preds"
   ]
  },
  {
   "cell_type": "code",
   "execution_count": 63,
   "metadata": {},
   "outputs": [
    {
     "data": {
      "text/plain": [
       "tensor([[ True],\n",
       "        [False],\n",
       "        [False],\n",
       "        ...,\n",
       "        [False],\n",
       "        [False],\n",
       "        [ True]])"
      ]
     },
     "execution_count": 63,
     "metadata": {},
     "output_type": "execute_result"
    }
   ],
   "source": [
    "corrects = (preds>0.5).float() == train_y\n",
    "corrects"
   ]
  },
  {
   "cell_type": "code",
   "execution_count": 64,
   "metadata": {},
   "outputs": [
    {
     "data": {
      "text/plain": [
       "0.30041947960853577"
      ]
     },
     "execution_count": 64,
     "metadata": {},
     "output_type": "execute_result"
    }
   ],
   "source": [
    "corrects.float().mean().item()"
   ]
  },
  {
   "cell_type": "code",
   "execution_count": 65,
   "metadata": {},
   "outputs": [
    {
     "data": {
      "text/plain": [
       "(torch.Size([256, 784]), torch.Size([256, 1]))"
      ]
     },
     "execution_count": 65,
     "metadata": {},
     "output_type": "execute_result"
    }
   ],
   "source": [
    "dl = DataLoader(dset, batch_size=256)\n",
    "valid_dl = DataLoader(valid_dset, batch_size=256)\n",
    "xb,yb = first(dl)\n",
    "xb.shape,yb.shape"
   ]
  },
  {
   "cell_type": "code",
   "execution_count": 66,
   "metadata": {},
   "outputs": [
    {
     "data": {
      "text/plain": [
       "torch.Size([4, 784])"
      ]
     },
     "execution_count": 66,
     "metadata": {},
     "output_type": "execute_result"
    }
   ],
   "source": [
    "batch = train_x[:4]\n",
    "batch.shape"
   ]
  },
  {
   "cell_type": "code",
   "execution_count": 67,
   "metadata": {},
   "outputs": [
    {
     "data": {
      "text/plain": [
       "tensor([[ 3.0332],\n",
       "        [-9.9617],\n",
       "        [-6.6830],\n",
       "        [-6.7614]], grad_fn=<AddBackward0>)"
      ]
     },
     "execution_count": 67,
     "metadata": {},
     "output_type": "execute_result"
    }
   ],
   "source": [
    "preds = linear1(batch)\n",
    "preds"
   ]
  },
  {
   "cell_type": "code",
   "execution_count": 69,
   "metadata": {},
   "outputs": [
    {
     "data": {
      "text/plain": [
       "tensor(6.0932, grad_fn=<MeanBackward0>)"
      ]
     },
     "execution_count": 69,
     "metadata": {},
     "output_type": "execute_result"
    }
   ],
   "source": [
    "def mnist_loss(predictions, targets):\n",
    "    return torch.where(targets==1, 1-predictions, predictions).mean()\n",
    "loss = mnist_loss(preds, train_y[:4])\n",
    "loss"
   ]
  },
  {
   "cell_type": "code",
   "execution_count": 70,
   "metadata": {},
   "outputs": [
    {
     "data": {
      "text/plain": [
       "(torch.Size([784, 1]), tensor(-0.1616), tensor([-1.]))"
      ]
     },
     "execution_count": 70,
     "metadata": {},
     "output_type": "execute_result"
    }
   ],
   "source": [
    "loss.backward()\n",
    "weights.grad.shape,weights.grad.mean(),bias.grad"
   ]
  },
  {
   "cell_type": "code",
   "execution_count": 71,
   "metadata": {},
   "outputs": [],
   "source": [
    "def calc_grad(xb, yb, model):\n",
    "    preds = model(xb)\n",
    "    loss = mnist_loss(preds, yb)\n",
    "    loss.backward()"
   ]
  },
  {
   "cell_type": "code",
   "execution_count": 72,
   "metadata": {},
   "outputs": [
    {
     "data": {
      "text/plain": [
       "(tensor(-0.3233), tensor([-2.]))"
      ]
     },
     "execution_count": 72,
     "metadata": {},
     "output_type": "execute_result"
    }
   ],
   "source": [
    "calc_grad(batch, train_y[:4], linear1)\n",
    "weights.grad.mean(),bias.grad"
   ]
  },
  {
   "cell_type": "code",
   "execution_count": 73,
   "metadata": {},
   "outputs": [
    {
     "data": {
      "text/plain": [
       "(tensor(-0.4849), tensor([-3.]))"
      ]
     },
     "execution_count": 73,
     "metadata": {},
     "output_type": "execute_result"
    }
   ],
   "source": [
    "calc_grad(batch, train_y[:4], linear1)\n",
    "weights.grad.mean(),bias.grad"
   ]
  },
  {
   "cell_type": "code",
   "execution_count": 74,
   "metadata": {},
   "outputs": [],
   "source": [
    "weights.grad.zero_()\n",
    "bias.grad.zero_();"
   ]
  },
  {
   "cell_type": "code",
   "execution_count": 75,
   "metadata": {},
   "outputs": [],
   "source": [
    "def train_epoch(model, lr, params):\n",
    "    for xb,yb in dl:\n",
    "        calc_grad(xb, yb, model)\n",
    "        for p in params:\n",
    "            p.data -= p.grad*lr\n",
    "            p.grad.zero_()"
   ]
  },
  {
   "cell_type": "code",
   "execution_count": 76,
   "metadata": {},
   "outputs": [
    {
     "data": {
      "text/plain": [
       "tensor([[ True],\n",
       "        [False],\n",
       "        [False],\n",
       "        [False]])"
      ]
     },
     "execution_count": 76,
     "metadata": {},
     "output_type": "execute_result"
    }
   ],
   "source": [
    "(preds>0.0).float() == train_y[:4]"
   ]
  },
  {
   "cell_type": "code",
   "execution_count": 77,
   "metadata": {},
   "outputs": [],
   "source": [
    "def batch_accuracy(xb, yb):\n",
    "    preds = xb.sigmoid()\n",
    "    correct = (preds>0.5) == yb\n",
    "    return correct.float().mean()"
   ]
  },
  {
   "cell_type": "code",
   "execution_count": 78,
   "metadata": {},
   "outputs": [
    {
     "data": {
      "text/plain": [
       "tensor(0.2500)"
      ]
     },
     "execution_count": 78,
     "metadata": {},
     "output_type": "execute_result"
    }
   ],
   "source": [
    "batch_accuracy(linear1(batch), train_y[:4])"
   ]
  },
  {
   "cell_type": "code",
   "execution_count": 79,
   "metadata": {},
   "outputs": [],
   "source": [
    "def validate_epoch(model):\n",
    "    accs = [batch_accuracy(model(xb), yb) for xb,yb in valid_dl]\n",
    "    return round(torch.stack(accs).mean().item(), 4)"
   ]
  },
  {
   "cell_type": "code",
   "execution_count": 82,
   "metadata": {},
   "outputs": [
    {
     "data": {
      "text/plain": [
       "0.9553"
      ]
     },
     "execution_count": 82,
     "metadata": {},
     "output_type": "execute_result"
    }
   ],
   "source": [
    "validate_epoch(linear1)"
   ]
  },
  {
   "cell_type": "code",
   "execution_count": 83,
   "metadata": {},
   "outputs": [
    {
     "data": {
      "text/plain": [
       "0.9548"
      ]
     },
     "execution_count": 83,
     "metadata": {},
     "output_type": "execute_result"
    }
   ],
   "source": [
    "lr = 1.\n",
    "params = weights,bias\n",
    "train_epoch(linear1, lr, params)\n",
    "validate_epoch(linear1)"
   ]
  },
  {
   "cell_type": "code",
   "execution_count": null,
   "metadata": {},
   "outputs": [],
   "source": []
  },
  {
   "cell_type": "code",
   "execution_count": null,
   "metadata": {},
   "outputs": [],
   "source": []
  },
  {
   "cell_type": "code",
   "execution_count": null,
   "metadata": {},
   "outputs": [],
   "source": []
  },
  {
   "cell_type": "code",
   "execution_count": null,
   "metadata": {},
   "outputs": [],
   "source": [
    "from torch import nn\n",
    "# Generate a Linear model: y=Wx + B\n",
    "linear_model = nn.Linear(28*28, 1)\n",
    "w,b = linear_model.parameters()\n",
    "params = w,b\n",
    "w.shape, b.shape"
   ]
  },
  {
   "cell_type": "code",
   "execution_count": null,
   "metadata": {},
   "outputs": [],
   "source": [
    "lr = 0.1\n",
    "opt = SGD(linear_model.parameters(), lr)"
   ]
  },
  {
   "cell_type": "code",
   "execution_count": null,
   "metadata": {},
   "outputs": [],
   "source": [
    "dl = DataLoader(dset, batch_size=256)\n",
    "xb,yb = first(dl)\n",
    "xb.shape,yb.shape "
   ]
  },
  {
   "cell_type": "code",
   "execution_count": null,
   "metadata": {},
   "outputs": [],
   "source": [
    "def train_epoch(model, lr, params):\n",
    "    for xb,yb in dl:\n",
    "        calc_grad(xb, yb, model)\n",
    "        for p in params:\n",
    "            p.data -= p.grad*lr\n",
    "            p.grad.zero_()"
   ]
  },
  {
   "cell_type": "code",
   "execution_count": null,
   "metadata": {},
   "outputs": [],
   "source": [
    "def calc_grad(xb, yb, model):\n",
    "    preds = model(xb)\n",
    "    loss = mnist_loss(preds, yb)\n",
    "    loss.backward()"
   ]
  },
  {
   "cell_type": "code",
   "execution_count": null,
   "metadata": {},
   "outputs": [],
   "source": [
    "def mnist_loss(predictions, targets):\n",
    "    return torch.where(targets==1, 1-predictions, predictions).mean()"
   ]
  },
  {
   "cell_type": "code",
   "execution_count": null,
   "metadata": {},
   "outputs": [],
   "source": [
    "def validate_epoch(model):\n",
    "    accs = [batch_accuracy(model(xb), yb) for xb,yb in valid_dl]\n",
    "    return round(torch.stack(accs).mean().item(), 4)"
   ]
  },
  {
   "cell_type": "code",
   "execution_count": null,
   "metadata": {},
   "outputs": [],
   "source": [
    "def batch_accuracy(xb, yb):\n",
    "    preds = xb.sigmoid()\n",
    "    correct = (preds>0.5) == yb\n",
    "    return correct.float().mean()"
   ]
  },
  {
   "cell_type": "code",
   "execution_count": null,
   "metadata": {},
   "outputs": [],
   "source": [
    "def train_model(model, lr, params, epochs):\n",
    "    for i in range(epochs):\n",
    "        train_epoch(model, lr, params)\n",
    "        print(validate_epoch(model), end=' ')"
   ]
  },
  {
   "cell_type": "code",
   "execution_count": null,
   "metadata": {},
   "outputs": [],
   "source": [
    "valid_x = torch.cat([valid_3_tens, valid_7_tens]).view(-1, 28*28)\n",
    "valid_y = tensor([1]*len(valid_3_tens) + [0]*len(valid_7_tens)).unsqueeze(1)\n",
    "valid_dset = list(zip(valid_x,valid_y))\n",
    "valid_dl = DataLoader(valid_dset, batch_size=256)"
   ]
  },
  {
   "cell_type": "code",
   "execution_count": null,
   "metadata": {},
   "outputs": [],
   "source": [
    "train_model(linear_model, lr, params, 20)"
   ]
  },
  {
   "cell_type": "code",
   "execution_count": null,
   "metadata": {},
   "outputs": [],
   "source": [
    "lr = 1.0\n",
    "\n",
    "dl = DataLoader(dset, batch_size=256)\n",
    "valid_dl = DataLoader(valid_dset, batch_size=256)\n",
    "\n",
    "linear_model = nn.Linear(28*28, 1)\n",
    "w,b = linear_model.parameters()\n",
    "params = w,b\n",
    "w.shape, b.shape\n",
    "\n",
    "train_epoch(linear_model, lr, params)\n",
    "validate_epoch(linear_model)"
   ]
  },
  {
   "cell_type": "markdown",
   "metadata": {},
   "source": [
    "## **Use FastAI Libraries**"
   ]
  },
  {
   "cell_type": "code",
   "execution_count": 148,
   "metadata": {
    "scrolled": true
   },
   "outputs": [
    {
     "data": {
      "text/html": [
       "<table border=\"1\" class=\"dataframe\">\n",
       "  <thead>\n",
       "    <tr style=\"text-align: left;\">\n",
       "      <th>epoch</th>\n",
       "      <th>train_loss</th>\n",
       "      <th>valid_loss</th>\n",
       "      <th>batch_accuracy</th>\n",
       "      <th>time</th>\n",
       "    </tr>\n",
       "  </thead>\n",
       "  <tbody>\n",
       "    <tr>\n",
       "      <td>0</td>\n",
       "      <td>-0.537776</td>\n",
       "      <td>-2.938937</td>\n",
       "      <td>0.956820</td>\n",
       "      <td>00:00</td>\n",
       "    </tr>\n",
       "    <tr>\n",
       "      <td>1</td>\n",
       "      <td>-2.798858</td>\n",
       "      <td>-6.301553</td>\n",
       "      <td>0.954858</td>\n",
       "      <td>00:00</td>\n",
       "    </tr>\n",
       "    <tr>\n",
       "      <td>2</td>\n",
       "      <td>-5.409679</td>\n",
       "      <td>-9.664170</td>\n",
       "      <td>0.954858</td>\n",
       "      <td>00:00</td>\n",
       "    </tr>\n",
       "    <tr>\n",
       "      <td>3</td>\n",
       "      <td>-8.248886</td>\n",
       "      <td>-13.026786</td>\n",
       "      <td>0.954367</td>\n",
       "      <td>00:00</td>\n",
       "    </tr>\n",
       "    <tr>\n",
       "      <td>4</td>\n",
       "      <td>-11.219706</td>\n",
       "      <td>-16.389402</td>\n",
       "      <td>0.954367</td>\n",
       "      <td>00:00</td>\n",
       "    </tr>\n",
       "    <tr>\n",
       "      <td>5</td>\n",
       "      <td>-14.259478</td>\n",
       "      <td>-19.752018</td>\n",
       "      <td>0.953876</td>\n",
       "      <td>00:00</td>\n",
       "    </tr>\n",
       "    <tr>\n",
       "      <td>6</td>\n",
       "      <td>-17.332920</td>\n",
       "      <td>-23.114632</td>\n",
       "      <td>0.953876</td>\n",
       "      <td>00:00</td>\n",
       "    </tr>\n",
       "    <tr>\n",
       "      <td>7</td>\n",
       "      <td>-20.421989</td>\n",
       "      <td>-26.477253</td>\n",
       "      <td>0.953876</td>\n",
       "      <td>00:00</td>\n",
       "    </tr>\n",
       "    <tr>\n",
       "      <td>8</td>\n",
       "      <td>-23.518044</td>\n",
       "      <td>-29.839867</td>\n",
       "      <td>0.953876</td>\n",
       "      <td>00:00</td>\n",
       "    </tr>\n",
       "    <tr>\n",
       "      <td>9</td>\n",
       "      <td>-26.617134</td>\n",
       "      <td>-33.202480</td>\n",
       "      <td>0.953876</td>\n",
       "      <td>00:00</td>\n",
       "    </tr>\n",
       "  </tbody>\n",
       "</table>"
      ],
      "text/plain": [
       "<IPython.core.display.HTML object>"
      ]
     },
     "metadata": {},
     "output_type": "display_data"
    }
   ],
   "source": [
    "dls = DataLoaders(dl, valid_dl)\n",
    "\n",
    "def mnist_dist(a, b):\n",
    "    return (a-b).abs().mean((-1,-2))\n",
    "\n",
    "def batch_accuracy(xb, yb):\n",
    "    preds = xb.sigmoid()\n",
    "    correct = (preds>0.5) == yb\n",
    "    return correct.float().mean()\n",
    "\n",
    "learn = Learner(dls, nn.Linear(28*28,1), opt_func=SGD,\n",
    "                loss_func=mnist_loss, metrics=batch_accuracy)\n",
    "\n",
    "learn.fit(10, lr=0.01)\n"
   ]
  },
  {
   "cell_type": "code",
   "execution_count": 84,
   "metadata": {},
   "outputs": [
    {
     "data": {
      "text/html": [
       "<table border=\"1\" class=\"dataframe\">\n",
       "  <thead>\n",
       "    <tr style=\"text-align: left;\">\n",
       "      <th>epoch</th>\n",
       "      <th>train_loss</th>\n",
       "      <th>valid_loss</th>\n",
       "      <th>batch_accuracy</th>\n",
       "      <th>time</th>\n",
       "    </tr>\n",
       "  </thead>\n",
       "  <tbody>\n",
       "    <tr>\n",
       "      <td>0</td>\n",
       "      <td>0.300389</td>\n",
       "      <td>0.408032</td>\n",
       "      <td>0.853778</td>\n",
       "      <td>00:00</td>\n",
       "    </tr>\n",
       "    <tr>\n",
       "      <td>1</td>\n",
       "      <td>0.262807</td>\n",
       "      <td>0.343133</td>\n",
       "      <td>0.941609</td>\n",
       "      <td>00:00</td>\n",
       "    </tr>\n",
       "    <tr>\n",
       "      <td>2</td>\n",
       "      <td>0.209269</td>\n",
       "      <td>0.263297</td>\n",
       "      <td>0.961727</td>\n",
       "      <td>00:00</td>\n",
       "    </tr>\n",
       "    <tr>\n",
       "      <td>3</td>\n",
       "      <td>0.140459</td>\n",
       "      <td>0.169504</td>\n",
       "      <td>0.962709</td>\n",
       "      <td>00:00</td>\n",
       "    </tr>\n",
       "    <tr>\n",
       "      <td>4</td>\n",
       "      <td>0.056703</td>\n",
       "      <td>0.058207</td>\n",
       "      <td>0.966634</td>\n",
       "      <td>00:00</td>\n",
       "    </tr>\n",
       "    <tr>\n",
       "      <td>5</td>\n",
       "      <td>-0.044159</td>\n",
       "      <td>-0.076394</td>\n",
       "      <td>0.965653</td>\n",
       "      <td>00:00</td>\n",
       "    </tr>\n",
       "    <tr>\n",
       "      <td>6</td>\n",
       "      <td>-0.165891</td>\n",
       "      <td>-0.240699</td>\n",
       "      <td>0.967125</td>\n",
       "      <td>00:00</td>\n",
       "    </tr>\n",
       "    <tr>\n",
       "      <td>7</td>\n",
       "      <td>-0.313686</td>\n",
       "      <td>-0.442402</td>\n",
       "      <td>0.968597</td>\n",
       "      <td>00:00</td>\n",
       "    </tr>\n",
       "    <tr>\n",
       "      <td>8</td>\n",
       "      <td>-0.494274</td>\n",
       "      <td>-0.691172</td>\n",
       "      <td>0.967125</td>\n",
       "      <td>00:00</td>\n",
       "    </tr>\n",
       "    <tr>\n",
       "      <td>9</td>\n",
       "      <td>-0.716021</td>\n",
       "      <td>-0.999261</td>\n",
       "      <td>0.964671</td>\n",
       "      <td>00:00</td>\n",
       "    </tr>\n",
       "  </tbody>\n",
       "</table>"
      ],
      "text/plain": [
       "<IPython.core.display.HTML object>"
      ]
     },
     "metadata": {},
     "output_type": "display_data"
    }
   ],
   "source": [
    "simple_net = nn.Sequential(\n",
    "    nn.Linear(28*28,30),\n",
    "    nn.ReLU(),\n",
    "    nn.Linear(30,1)\n",
    ")\n",
    "\n",
    "dl = DataLoader(dset, batch_size=256)\n",
    "valid_dl = DataLoader(valid_dset, batch_size=256)\n",
    "\n",
    "dls = DataLoaders(dl, valid_dl)\n",
    "\n",
    "# dls = ImageDataLoaders.from_folder(path)\n",
    "\n",
    "def mnist_loss(predictions, targets):\n",
    "    loss = torch.where(targets==1, 1-predictions, predictions).mean()\n",
    "#     print(loss)\n",
    "    return loss\n",
    "\n",
    "def batch_accuracy(xb, yb):\n",
    "    preds = xb.sigmoid()\n",
    "    correct = (preds>0.5) == yb\n",
    "    return correct.float().mean()\n",
    "\n",
    "learn = Learner(dls, simple_net, opt_func=SGD,\n",
    "                loss_func=mnist_loss, metrics=batch_accuracy)\n",
    "\n",
    "learn.fit(10, 0.001)\n"
   ]
  },
  {
   "cell_type": "code",
   "execution_count": 85,
   "metadata": {},
   "outputs": [
    {
     "data": {
      "text/plain": [
       "<AxesSubplot:>"
      ]
     },
     "execution_count": 85,
     "metadata": {},
     "output_type": "execute_result"
    },
    {
     "data": {
      "image/png": "[encoded data removed]",
      "text/plain": [
       "<Figure size 72x72 with 1 Axes>"
      ]
     },
     "metadata": {
      "needs_background": "light"
     },
     "output_type": "display_data"
    }
   ],
   "source": [
    "show_image(dls.valid_ds[0][0].view(28,28))"
   ]
  },
  {
   "cell_type": "code",
   "execution_count": 86,
   "metadata": {},
   "outputs": [
    {
     "data": {
      "text/plain": [
       "Sequential(\n",
       "  (0): Linear(in_features=784, out_features=30, bias=True)\n",
       "  (1): ReLU()\n",
       "  (2): Linear(in_features=30, out_features=1, bias=True)\n",
       ")"
      ]
     },
     "execution_count": 86,
     "metadata": {},
     "output_type": "execute_result"
    }
   ],
   "source": [
    "learn.model"
   ]
  },
  {
   "cell_type": "markdown",
   "metadata": {
    "scrolled": false
   },
   "source": [
    "## **Misc Junk**"
   ]
  },
  {
   "cell_type": "code",
   "execution_count": null,
   "metadata": {},
   "outputs": [],
   "source": [
    "from torch import nn\n",
    "\n",
    "loss = nn.MSELoss()\n",
    "input = torch.randn(3, 5, requires_grad=True)\n",
    "target = torch.randn(3, 5)\n",
    "output = loss(input, target)\n",
    "output.backward()\n",
    "\n",
    "\n",
    "print(target.shape)"
   ]
  },
  {
   "cell_type": "code",
   "execution_count": null,
   "metadata": {},
   "outputs": [],
   "source": [
    "# *.T ==> Transpose\n",
    "weights.shape"
   ]
  },
  {
   "cell_type": "code",
   "execution_count": null,
   "metadata": {},
   "outputs": [],
   "source": [
    "weights.T.shape"
   ]
  },
  {
   "cell_type": "code",
   "execution_count": null,
   "metadata": {},
   "outputs": [],
   "source": []
  },
  {
   "cell_type": "code",
   "execution_count": null,
   "metadata": {},
   "outputs": [],
   "source": []
  },
  {
   "cell_type": "code",
   "execution_count": null,
   "metadata": {},
   "outputs": [],
   "source": []
  },
  {
   "cell_type": "code",
   "execution_count": null,
   "metadata": {},
   "outputs": [],
   "source": []
  },
  {
   "cell_type": "code",
   "execution_count": null,
   "metadata": {},
   "outputs": [],
   "source": []
  },
  {
   "cell_type": "code",
   "execution_count": 110,
   "metadata": {},
   "outputs": [
    {
     "data": {
      "text/html": [
       "<table border=\"1\" class=\"dataframe\">\n",
       "  <thead>\n",
       "    <tr style=\"text-align: left;\">\n",
       "      <th>epoch</th>\n",
       "      <th>train_loss</th>\n",
       "      <th>valid_loss</th>\n",
       "      <th>accuracy</th>\n",
       "      <th>time</th>\n",
       "    </tr>\n",
       "  </thead>\n",
       "  <tbody>\n",
       "    <tr>\n",
       "      <td>0</td>\n",
       "      <td>0.161479</td>\n",
       "      <td>0.043295</td>\n",
       "      <td>0.994112</td>\n",
       "      <td>00:05</td>\n",
       "    </tr>\n",
       "  </tbody>\n",
       "</table>"
      ],
      "text/plain": [
       "<IPython.core.display.HTML object>"
      ]
     },
     "metadata": {},
     "output_type": "display_data"
    }
   ],
   "source": [
    "dls = ImageDataLoaders.from_folder(path)\n",
    "learn = cnn_learner(dls, resnet18, pretrained=False,\n",
    "                    loss_func=F.cross_entropy, metrics=accuracy)\n",
    "learn.fit_one_cycle(1, 0.1)"
   ]
  }
 ],
 "metadata": {
  "kernelspec": {
   "display_name": "Python 3",
   "language": "python",
   "name": "python3"
  },
  "language_info": {
   "codemirror_mode": {
    "name": "ipython",
    "version": 3
   },
   "file_extension": ".py",
   "mimetype": "text/x-python",
   "name": "python",
   "nbconvert_exporter": "python",
   "pygments_lexer": "ipython3",
   "version": "3.8.6"
  }
 },
 "nbformat": 4,
 "nbformat_minor": 4
}
