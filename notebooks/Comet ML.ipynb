{
 "cells": [
  {
   "cell_type": "code",
   "execution_count": 1,
   "metadata": {},
   "outputs": [
    {
     "name": "stderr",
     "output_type": "stream",
     "text": [
      "COMET INFO: Experiment is live on comet.ml https://www.comet.ml/portoforigin/fastai/eea68dcbfb804e31a00f587bf500e8bb\n",
      "\n"
     ]
    }
   ],
   "source": [
    "## MNIST Example in fastai\n",
    "\n",
    "## Note: this uses fastai version 1.0.38\n",
    "## pip install fastai==1.0.38\n",
    "\n",
    "from comet_ml import Experiment\n",
    "\n",
    "import fastai\n",
    "import fastai.vision\n",
    "import glob\n",
    "import os\n",
    "\n",
    "# # The model, also known as wrn_22:\n",
    "# model = fastai.vision.models.WideResNet(num_groups=3,\n",
    "#                                         N=3,\n",
    "#                                         num_classes=10,\n",
    "#                                         k=6,\n",
    "#                                         drop_p=0.)\n",
    "\n",
    "# ## Get the MNIST_TINY dataset:\n",
    "# path = fastai.datasets.untar_data(fastai.datasets.URLs.MNIST_TINY)\n",
    "# print(\"data path:\", path)\n",
    "\n",
    "# ## Still too many for a CPU, so we trim it down to 10 in each category:\n",
    "# dirname = os.path.dirname(path)\n",
    "# for group in [\"mnist_tiny/train/3/*.png\",\n",
    "#               \"mnist_tiny/train/7/*.png\",\n",
    "#               \"mnist_tiny/valid/3/*.png\",\n",
    "#               \"mnist_tiny/valid/7/*.png\"]:\n",
    "#     for filename in glob.glob(os.path.join(dirname, group))[10:]:\n",
    "#         os.remove(filename)\n",
    "\n",
    "experiment = Experiment(project_name=\"fastai\")\n",
    "\n",
    "# ## Now we get the image data from the folder:\n",
    "# data = fastai.vision.ImageDataBunch.from_folder(path, bs=10) # bs: batch size\n",
    "\n",
    "# if data.device.type == 'cpu':\n",
    "#     learn = fastai.basic_train.Learner(data, model, metrics=fastai.metrics.accuracy)\n",
    "# else: # GPU:\n",
    "#     learn = fastai.basic_train.Learner(data, model, metrics=fastai.metrics.accuracy).to_fp16()\n",
    "\n",
    "# with experiment.train():\n",
    "#     learn.fit_one_cycle(10, 3e-3, wd=0.4, div_factor=10, pct_start=0.5)"
   ]
  }
 ],
 "metadata": {
  "kernelspec": {
   "display_name": "Python 3",
   "language": "python",
   "name": "python3"
  },
  "language_info": {
   "codemirror_mode": {
    "name": "ipython",
    "version": 3
   },
   "file_extension": ".py",
   "mimetype": "text/x-python",
   "name": "python",
   "nbconvert_exporter": "python",
   "pygments_lexer": "ipython3",
   "version": "3.8.8"
  }
 },
 "nbformat": 4,
 "nbformat_minor": 4
}
