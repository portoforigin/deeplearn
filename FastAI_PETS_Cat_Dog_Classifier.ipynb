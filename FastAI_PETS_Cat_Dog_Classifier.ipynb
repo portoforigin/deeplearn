{
  "nbformat": 4,
  "nbformat_minor": 0,
  "metadata": {
    "colab": {
      "name": "FastAI_PETS - Cat Dog Classifier.ipynb",
      "provenance": [],
      "collapsed_sections": [],
      "authorship_tag": "ABX9TyN5oZMde4rGJ6RGnP+nudeX",
      "include_colab_link": true
    },
    "kernelspec": {
      "name": "python3",
      "display_name": "Python 3"
    },
    "accelerator": "GPU"
  },
  "cells": [
    {
      "cell_type": "markdown",
      "metadata": {
        "id": "view-in-github",
        "colab_type": "text"
      },
      "source": [
        "<a href=\"https://colab.research.google.com/github/portoforigin/deeplearn/blob/main/FastAI_PETS_Cat_Dog_Classifier.ipynb\" target=\"_parent\"><img src=\"https://colab.research.google.com/assets/colab-badge.svg\" alt=\"Open In Colab\"/></a>"
      ]
    },
    {
      "cell_type": "markdown",
      "metadata": {
        "id": "8C5pS9GIS5sH"
      },
      "source": [
        "## **Install Dependencies:**\n",
        "\n",
        " - Default version of fastai in Google Colab is 1.0.61(?), we need >v2.2.5"
      ]
    },
    {
      "cell_type": "code",
      "metadata": {
        "id": "YVhzOZTkSyj5"
      },
      "source": [
        "!pip install -Uqq fastai\n",
        "!pip install lime\n",
        "\n",
        "import fastai\n",
        "fastai.__version__\n",
        "\n",
        "PROJECT_NAME = \"FastAI_PETS\"\n",
        "MODEL_NAME = \"fastai_pets_cat_dog_001.pkl\""
      ],
      "execution_count": null,
      "outputs": []
    },
    {
      "cell_type": "markdown",
      "metadata": {
        "id": "0wDNOreoTQLM"
      },
      "source": [
        "**Connect to Google Drive**"
      ]
    },
    {
      "cell_type": "code",
      "metadata": {
        "id": "5gRlrxC1TTLZ"
      },
      "source": [
        "from fastai.vision.all import *\n",
        "from google.colab import drive\n",
        "drive.mount('/content/gdrive', force_remount=True)\n",
        "root_dir = \"/content/gdrive/My Drive/\"\n",
        "base_dir = root_dir + 'deeplearn/'\n",
        "dest=Path(base_dir + PROJECT_NAME)\n",
        "try:\n",
        "  dest.mkdir(parents=True, exist_ok=False)\n",
        "except FileExistsError:\n",
        "  print ('File Already Exists')"
      ],
      "execution_count": null,
      "outputs": []
    },
    {
      "cell_type": "markdown",
      "metadata": {
        "id": "qyD-3J44TCoz"
      },
      "source": [
        "## **PETS Dataset**\n",
        "\n",
        "Load a view the PETS dataset:"
      ]
    },
    {
      "cell_type": "code",
      "metadata": {
        "id": "vX-J5CJsTCHq"
      },
      "source": [
        "from fastai.vision.all import *\n",
        "\n",
        "path = untar_data(URLs.PETS)\n",
        "# path.ls()\n",
        "\n",
        "files = get_image_files(path/\"images\")\n",
        "print(\"There are %s images\" % (len(files)))\n",
        "\n",
        "# Label Function\n",
        "# - Capital first letter indicates Cat\n",
        "def label_func(f): return f[0].isupper()\n",
        "\n",
        "# Load Data set\n",
        "dls = ImageDataLoaders.from_name_func(\n",
        "    path, get_image_files(path), valid_pct=0.2, seed=42,\n",
        "    label_func=label_func, item_tfms=Resize(224),\n",
        "    metrics=error_rate)"
      ],
      "execution_count": null,
      "outputs": []
    },
    {
      "cell_type": "markdown",
      "metadata": {
        "id": "N_3cnSHVeaas"
      },
      "source": [
        "**Load pre-trained Model**\n",
        "Note: All custom functions need to be defined before calling load_leaner() (i.e. `def label_func`)"
      ]
    },
    {
      "cell_type": "code",
      "metadata": {
        "id": "uV5xlmWLdwzn"
      },
      "source": [
        "print(f\"Loading Model from {dest/MODEL_NAME}\")\n",
        "learn = load_learner(dest/MODEL_NAME)\n"
      ],
      "execution_count": null,
      "outputs": []
    },
    {
      "cell_type": "code",
      "metadata": {
        "id": "nxikmy-FX-6h"
      },
      "source": [
        "# View Data set (True == Cat, False == Dog)\n",
        "dls.show_batch()"
      ],
      "execution_count": null,
      "outputs": []
    },
    {
      "cell_type": "markdown",
      "metadata": {
        "id": "CUfh3um3XEYY"
      },
      "source": [
        "## **Generate Fast AI Model for identifying Cats vs. Dogs**"
      ]
    },
    {
      "cell_type": "code",
      "metadata": {
        "id": "-svS_Vn5XJcc"
      },
      "source": [
        "learn = cnn_learner(dls, resnet34, metrics=error_rate)\n",
        "learn.fine_tune(1)"
      ],
      "execution_count": null,
      "outputs": []
    },
    {
      "cell_type": "markdown",
      "metadata": {
        "id": "wm7Uh0a3enu3"
      },
      "source": [
        "## **Evaulate Model**"
      ]
    },
    {
      "cell_type": "code",
      "metadata": {
        "id": "P31gEJ2vYrUj"
      },
      "source": [
        "#Print top 20 losses. \n",
        "interp = ClassificationInterpretation.from_learner(learn)"
      ],
      "execution_count": null,
      "outputs": []
    },
    {
      "cell_type": "code",
      "metadata": {
        "id": "2StrjQ_YcLiT"
      },
      "source": [
        "num_losses = 5\n",
        "losses, indices = interp.top_losses(num_losses)\n",
        "x = 1\n",
        "for idx in indices:\n",
        "    print(f\"[{x}] {dls.valid_ds.items[idx]}\")\n",
        "    x += 1\n",
        "interp.plot_top_losses(num_losses)"
      ],
      "execution_count": null,
      "outputs": []
    },
    {
      "cell_type": "markdown",
      "metadata": {
        "id": "z0WxWAaPZJ1u"
      },
      "source": [
        "## **Upload Test Image**"
      ]
    },
    {
      "cell_type": "code",
      "metadata": {
        "id": "vM1E6TkFZJa5"
      },
      "source": [
        "from google.colab import files\n",
        "uploaded = files.upload()"
      ],
      "execution_count": null,
      "outputs": []
    },
    {
      "cell_type": "code",
      "metadata": {
        "id": "-sdoLio2ZRHs"
      },
      "source": [
        "import cv2\n",
        "import numpy as np\n",
        "from matplotlib import pyplot as plt\n",
        "\n",
        "for fname in uploaded.keys():\n",
        "  is_cat,_,probs = learn_species.predict(fname)\n",
        "\n",
        "  # Show Image\n",
        "  img = cv2.imread(fname)\n",
        "  img_cvt=cv2.cvtColor(img, cv2.COLOR_BGR2RGB)\n",
        "  plt.imshow(img_cvt)\n",
        "  plt.show()\n",
        "\n",
        "  print(f\"Is %s a cat?: %s\" % (fname, is_cat))\n",
        "  print(f\"Probability it's a cat: {probs[1].item():.6f}\")"
      ],
      "execution_count": null,
      "outputs": []
    },
    {
      "cell_type": "markdown",
      "metadata": {
        "id": "RR1ms5Z5YNjX"
      },
      "source": [
        "## **Save Model to Drive**"
      ]
    },
    {
      "cell_type": "code",
      "metadata": {
        "id": "eM4vy-TaYT-m"
      },
      "source": [
        "learn.export(dest/MODEL_NAME)"
      ],
      "execution_count": null,
      "outputs": []
    }
  ]
}